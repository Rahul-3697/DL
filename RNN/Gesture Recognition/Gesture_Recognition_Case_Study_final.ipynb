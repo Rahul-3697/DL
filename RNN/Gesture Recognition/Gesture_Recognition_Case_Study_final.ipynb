{
 "cells": [
  {
   "cell_type": "markdown",
   "metadata": {},
   "source": [
    "### Importing Libraries"
   ]
  },
  {
   "cell_type": "code",
   "execution_count": 1,
   "metadata": {},
   "outputs": [],
   "source": [
    "import numpy as np\n",
    "import os\n",
    "import datetime\n",
    "\n",
    "np.random.seed(30)\n",
    "import random as rn\n",
    "rn.seed(30)\n",
    "\n",
    "from skimage.transform import resize, rescale\n",
    "import imageio\n",
    "import matplotlib.pyplot as plt\n",
    "\n",
    "import tensorflow as tf\n",
    "\n",
    "from tensorflow.keras.models import Sequential, Model\n",
    "from tensorflow.keras.layers import Dense, GRU, Flatten, TimeDistributed, Flatten, BatchNormalization, Activation, Dropout\n",
    "from tensorflow.keras.layers import Conv3D, MaxPooling3D, Conv2D, MaxPooling2D\n",
    "from tensorflow.keras.callbacks import ModelCheckpoint, ReduceLROnPlateau\n",
    "from tensorflow.keras.regularizers import l2\n",
    "from tensorflow.keras import optimizers "
   ]
  },
  {
   "cell_type": "markdown",
   "metadata": {},
   "source": [
    "### Initializing path & Importing datasets"
   ]
  },
  {
   "cell_type": "code",
   "execution_count": 2,
   "metadata": {},
   "outputs": [],
   "source": [
    "train_doc = np.random.permutation(open('/datasets/Project_data/train.csv').readlines())\n",
    "val_doc = np.random.permutation(open('/datasets/Project_data/val.csv').readlines())"
   ]
  },
  {
   "cell_type": "code",
   "execution_count": 3,
   "metadata": {},
   "outputs": [
    {
     "name": "stdout",
     "output_type": "stream",
     "text": [
      "# training sequences = 663\n",
      "# validation sequences = 100\n"
     ]
    },
    {
     "data": {
      "text/plain": [
       "51"
      ]
     },
     "execution_count": 3,
     "metadata": {},
     "output_type": "execute_result"
    }
   ],
   "source": [
    "curr_dt_time = datetime.datetime.now()\n",
    "train_path = '/datasets/Project_data/train'\n",
    "val_path = '/datasets/Project_data/val'\n",
    "num_train_sequences = len(train_doc)\n",
    "print('# training sequences =', num_train_sequences)\n",
    "num_val_sequences = len(val_doc)\n",
    "print('# validation sequences =', num_val_sequences)\n",
    "\n",
    "import gc\n",
    "gc.collect()"
   ]
  },
  {
   "cell_type": "markdown",
   "metadata": {},
   "source": [
    "### Generator Function"
   ]
  },
  {
   "cell_type": "code",
   "execution_count": 4,
   "metadata": {},
   "outputs": [],
   "source": [
    "def generator(source_path, folder_list, batch_size, height, width, frames, augment=False):\n",
    "    total_frames = 30\n",
    "    num_images=frames\n",
    "    while True:\n",
    "        t = np.random.permutation(folder_list)\n",
    "        num_batches = len(t)//batch_size # calculate the number of batches\n",
    "        \n",
    "        img_idx = np.round(np.linspace(0,total_frames-1,num_images)).astype(int) #create a list of image numbers you want to use for a particular video\n",
    "\n",
    "        for batch in range(num_batches): # we iterate over the number of batches\n",
    "            batch_data   = np.zeros((batch_size, num_images, height, width, 3)) # 3 is the number of channels RGB\n",
    "            batch_labels = np.zeros((batch_size, 5)) # batch_labels is the one hot representation of the output           \n",
    "\n",
    "            for folder in range(batch_size): # iterate over the batch_size\n",
    "                imgs = os.listdir(source_path+'/'+ t[folder + (batch*batch_size)].split(';')[0]) # read all the images in the folder\n",
    "                for idx,item in enumerate(img_idx): #  Iterate over the frames/images of a folder to read them in\n",
    "                    image = imageio.imread(source_path+'/'+ t[folder + (batch*batch_size)].strip().split(';')[0]+'/'+imgs[item]).astype(np.float32)\n",
    "\n",
    "                    #crop the images and resize them. Note that the images are of 2 different shape \n",
    "                    #and the conv3D will throw error if the inputs in a batch have different shapes                    \n",
    "                    h, w, c = image.shape\n",
    "                    image = resize(image, (height, width), anti_aliasing=True)\n",
    "\n",
    "                    # Randomly transform few images of few folders; note that folders are randomly shuffled in each epoch too\n",
    "                    if augment:\n",
    "                        if np.random.randn() > 0:\n",
    "                            image = datagen.random_transform(image)                   \n",
    "\n",
    "                    batch_data[folder,idx,:,:,0] = (image[...,0])/255 #normalise and feed in the image\n",
    "                    batch_data[folder,idx,:,:,1] = (image[...,1])/255 #normalise and feed in the image\n",
    "                    batch_data[folder,idx,:,:,2] = (image[...,2])/255 #normalise and feed in the image                  \n",
    "                    \n",
    "                batch_labels[folder, int(t[folder + (batch*batch_size)].strip().split(';')[2])] = 1\n",
    "\n",
    "            yield batch_data, batch_labels #you yield the batch_data and the batch_labels, remember what does yield do\n",
    "        \n",
    "        # code for the remaining data points which are left after full batches\n",
    "        if (len(t)%batch_size):\n",
    "            remaining_batch_size = len(t)%batch_size\n",
    "            batch_data   = np.zeros((remaining_batch_size, num_images, height, width,3)) # 3 is the number of channels RGB\n",
    "            batch_labels = np.zeros((remaining_batch_size,5)) # batch_labels is the one hot representation of the output           \n",
    "\n",
    "            for folder in range(remaining_batch_size): # iterate over the batch_size\n",
    "                imgs = os.listdir(source_path+'/'+ t[folder + (num_batches*batch_size)].split(';')[0]) # read all the images in the folder\n",
    "                for idx,item in enumerate(img_idx): #  Iterate iver the frames/images of a folder to read them in\n",
    "                    image = imageio.imread(source_path+'/'+ t[folder + (num_batches*batch_size)].strip().split(';')[0]+'/'+imgs[item]).astype(np.float32)\n",
    "                \n",
    "                    #crop the images and resize them. Note that the images are of 2 different shape \n",
    "                    #and the conv3D will throw error if the inputs in a batch have different shapes\n",
    "                    h, w, c = image.shape\n",
    "                    image = resize(image, (height, width), anti_aliasing=True)                          \n",
    "                    \n",
    "                    # Randomly transform few images of few folders; note that folders are randomly shuffled in each epoch too\n",
    "                    if augment:\n",
    "                        if np.random.randn() > 0:\n",
    "                            image = datagen.random_transform(image)                   \n",
    "\n",
    "                    batch_data[folder,idx,:,:,0] = (image[...,0])/255 #normalise and feed in the image\n",
    "                    batch_data[folder,idx,:,:,1] = (image[...,1])/255 #normalise and feed in the image\n",
    "                    batch_data[folder,idx,:,:,2] = (image[...,2])/255 #normalise and feed in the image\n",
    "                    \n",
    "                batch_labels[folder, int(t[folder + (num_batches*batch_size)].strip().split(';')[2])] = 1\n",
    "\n",
    "            yield batch_data, batch_labels "
   ]
  },
  {
   "cell_type": "markdown",
   "metadata": {},
   "source": [
    "### Model accuracy Plot"
   ]
  },
  {
   "cell_type": "code",
   "execution_count": 5,
   "metadata": {},
   "outputs": [],
   "source": [
    "def plot(history):\n",
    "    fig, axes = plt.subplots(nrows=1, ncols=2, figsize=(15,4))\n",
    "    axes[0].plot(history.history['loss'])   \n",
    "    axes[0].plot(history.history['val_loss'])\n",
    "    axes[0].legend(['loss','val_loss'])\n",
    "\n",
    "    axes[1].plot(history.history['categorical_accuracy'])   \n",
    "    axes[1].plot(history.history['val_categorical_accuracy'])\n",
    "    axes[1].legend(['categorical_accuracy','val_categorical_accuracy'])"
   ]
  },
  {
   "cell_type": "markdown",
   "metadata": {},
   "source": [
    "### Code to save in each epochs"
   ]
  },
  {
   "cell_type": "code",
   "execution_count": 6,
   "metadata": {},
   "outputs": [],
   "source": [
    "def call_back(name):   \n",
    "    model_name = name + '_' + str(curr_dt_time).replace(' ','').replace(':','_') + '/'\n",
    "        \n",
    "    if not os.path.exists(model_name):\n",
    "        os.mkdir(model_name)\n",
    "        \n",
    "    filepath = model_name + 'model-{epoch:05d}-{loss:.5f}-{categorical_accuracy:.5f}-{val_loss:.5f}-{val_categorical_accuracy:.5f}.h5'\n",
    "    \n",
    "    checkpoint = ModelCheckpoint(filepath, monitor='val_loss', verbose=1, save_best_only=False, save_weights_only=False, mode='auto', period=1)\n",
    "    \n",
    "    LR =  ReduceLROnPlateau(monitor='val_loss', factor=0.2, patience=5, min_lr=0.001)\n",
    "    \n",
    "    callbacks_list = [checkpoint, LR]\n",
    "    \n",
    "    return callbacks_list"
   ]
  },
  {
   "cell_type": "markdown",
   "metadata": {},
   "source": [
    "### Code to evaluate steps"
   ]
  },
  {
   "cell_type": "code",
   "execution_count": 7,
   "metadata": {},
   "outputs": [],
   "source": [
    "def cal_steps() :\n",
    "    if (num_train_sequences%batch_size) == 0:\n",
    "        steps_per_epoch = int(num_train_sequences/batch_size)\n",
    "    else:\n",
    "        steps_per_epoch = (num_train_sequences//batch_size) + 1\n",
    "    \n",
    "    if (num_val_sequences%batch_size) == 0:\n",
    "        validation_steps = int(num_val_sequences/batch_size)\n",
    "    else:\n",
    "        validation_steps = (num_val_sequences//batch_size) + 1\n",
    "    \n",
    "    return steps_per_epoch, validation_steps"
   ]
  },
  {
   "cell_type": "markdown",
   "metadata": {},
   "source": [
    "### Model params"
   ]
  },
  {
   "cell_type": "code",
   "execution_count": 8,
   "metadata": {},
   "outputs": [],
   "source": [
    "batch_size = 32\n",
    "num_epochs = 25\n",
    "img_height = 120\n",
    "img_width = 120\n",
    "frames = 16"
   ]
  },
  {
   "cell_type": "markdown",
   "metadata": {},
   "source": [
    "## Model CNN+RNN(Base) Model 1"
   ]
  },
  {
   "cell_type": "code",
   "execution_count": 9,
   "metadata": {},
   "outputs": [
    {
     "name": "stdout",
     "output_type": "stream",
     "text": [
      "Model: \"sequential\"\n",
      "_________________________________________________________________\n",
      "Layer (type)                 Output Shape              Param #   \n",
      "=================================================================\n",
      "time_distributed (TimeDistri (None, 16, 120, 120, 64)  832       \n",
      "_________________________________________________________________\n",
      "time_distributed_1 (TimeDist (None, 16, 120, 120, 64)  0         \n",
      "_________________________________________________________________\n",
      "time_distributed_2 (TimeDist (None, 16, 120, 120, 64)  256       \n",
      "_________________________________________________________________\n",
      "time_distributed_3 (TimeDist (None, 16, 60, 60, 64)    0         \n",
      "_________________________________________________________________\n",
      "time_distributed_4 (TimeDist (None, 16, 60, 60, 128)   32896     \n",
      "_________________________________________________________________\n",
      "time_distributed_5 (TimeDist (None, 16, 60, 60, 128)   0         \n",
      "_________________________________________________________________\n",
      "time_distributed_6 (TimeDist (None, 16, 60, 60, 128)   512       \n",
      "_________________________________________________________________\n",
      "time_distributed_7 (TimeDist (None, 16, 30, 30, 128)   0         \n",
      "_________________________________________________________________\n",
      "time_distributed_8 (TimeDist (None, 16, 115200)        0         \n",
      "_________________________________________________________________\n",
      "gru (GRU)                    (None, 16, 16)            5530464   \n",
      "_________________________________________________________________\n",
      "gru_1 (GRU)                  (None, 32)                4800      \n",
      "_________________________________________________________________\n",
      "dropout (Dropout)            (None, 32)                0         \n",
      "_________________________________________________________________\n",
      "flatten_1 (Flatten)          (None, 32)                0         \n",
      "_________________________________________________________________\n",
      "dense (Dense)                (None, 64)                2112      \n",
      "_________________________________________________________________\n",
      "activation_2 (Activation)    (None, 64)                0         \n",
      "_________________________________________________________________\n",
      "batch_normalization_2 (Batch (None, 64)                256       \n",
      "_________________________________________________________________\n",
      "dense_1 (Dense)              (None, 128)               8320      \n",
      "_________________________________________________________________\n",
      "activation_3 (Activation)    (None, 128)               0         \n",
      "_________________________________________________________________\n",
      "batch_normalization_3 (Batch (None, 128)               512       \n",
      "_________________________________________________________________\n",
      "dense_2 (Dense)              (None, 5)                 645       \n",
      "_________________________________________________________________\n",
      "activation_4 (Activation)    (None, 5)                 0         \n",
      "=================================================================\n",
      "Total params: 5,581,605\n",
      "Trainable params: 5,580,837\n",
      "Non-trainable params: 768\n",
      "_________________________________________________________________\n",
      "None\n"
     ]
    }
   ],
   "source": [
    "model2 = Sequential()\n",
    "\n",
    "model2.add(TimeDistributed(Conv2D(64, (2, 2), padding='same'), input_shape=(frames, img_height,img_width, 3)))\n",
    "model2.add(TimeDistributed(Activation('relu')))\n",
    "model2.add(TimeDistributed(BatchNormalization()))\n",
    "model2.add(TimeDistributed(MaxPooling2D(pool_size=(2, 2))))\n",
    "\n",
    "model2.add(TimeDistributed(Conv2D(128, (2, 2), padding='same'))) \n",
    "model2.add(TimeDistributed(Activation('relu')))\n",
    "model2.add(TimeDistributed(BatchNormalization()))\n",
    "model2.add(TimeDistributed(MaxPooling2D(pool_size=(2, 2))))\n",
    "\n",
    "model2.add(TimeDistributed(Flatten()))\n",
    "\n",
    "model2.add(GRU(16,return_sequences=True))\n",
    "model2.add(GRU(32))\n",
    "model2.add(Dropout(0.5))\n",
    "    \n",
    "model2.add(Flatten())\n",
    "model2.add(Dense(64))\n",
    "model2.add(Activation('relu'))\n",
    "model2.add(BatchNormalization())\n",
    "\n",
    "model2.add(Dense(128))\n",
    "model2.add(Activation('relu'))\n",
    "model2.add(BatchNormalization())\n",
    "\n",
    "model2.add(Dense(5))\n",
    "model2.add(Activation('softmax'))\n",
    "optimiser = 'SGD'\n",
    "\n",
    "model2.compile(optimizer=optimiser, loss='categorical_crossentropy', metrics=['categorical_accuracy'])\n",
    "print(model2.summary())"
   ]
  },
  {
   "cell_type": "code",
   "execution_count": 10,
   "metadata": {},
   "outputs": [],
   "source": [
    "train_generator = generator(train_path, train_doc, batch_size,img_height, img_width,frames)\n",
    "val_generator = generator(val_path, val_doc, batch_size,img_height, img_width,frames)"
   ]
  },
  {
   "cell_type": "markdown",
   "metadata": {},
   "source": [
    "### Fit the model"
   ]
  },
  {
   "cell_type": "code",
   "execution_count": 11,
   "metadata": {
    "scrolled": true
   },
   "outputs": [
    {
     "name": "stdout",
     "output_type": "stream",
     "text": [
      "WARNING:tensorflow:`period` argument is deprecated. Please use `save_freq` to specify the frequency in number of batches seen.\n",
      "Epoch 1/25\n",
      "21/21 [==============================] - ETA: 0s - loss: 2.0173 - categorical_accuracy: 0.2293\n",
      "Epoch 00001: saving model to GR_RNN_2021-09-0812_59_28.376712/model-00001-2.01731-0.22926-1.60774-0.19000.h5\n",
      "21/21 [==============================] - 96s 5s/step - loss: 2.0173 - categorical_accuracy: 0.2293 - val_loss: 1.6077 - val_categorical_accuracy: 0.1900\n",
      "Epoch 2/25\n",
      "21/21 [==============================] - ETA: 0s - loss: 1.8981 - categorical_accuracy: 0.2066\n",
      "Epoch 00002: saving model to GR_RNN_2021-09-0812_59_28.376712/model-00002-1.89811-0.20664-1.62169-0.19000.h5\n",
      "21/21 [==============================] - 101s 5s/step - loss: 1.8981 - categorical_accuracy: 0.2066 - val_loss: 1.6217 - val_categorical_accuracy: 0.1900\n",
      "Epoch 3/25\n",
      "21/21 [==============================] - ETA: 0s - loss: 1.8514 - categorical_accuracy: 0.2217\n",
      "Epoch 00003: saving model to GR_RNN_2021-09-0812_59_28.376712/model-00003-1.85139-0.22172-1.63998-0.17000.h5\n",
      "21/21 [==============================] - 95s 5s/step - loss: 1.8514 - categorical_accuracy: 0.2217 - val_loss: 1.6400 - val_categorical_accuracy: 0.1700\n",
      "Epoch 4/25\n",
      "21/21 [==============================] - ETA: 0s - loss: 1.7867 - categorical_accuracy: 0.2323\n",
      "Epoch 00004: saving model to GR_RNN_2021-09-0812_59_28.376712/model-00004-1.78671-0.23228-1.63795-0.16000.h5\n",
      "21/21 [==============================] - 78s 4s/step - loss: 1.7867 - categorical_accuracy: 0.2323 - val_loss: 1.6380 - val_categorical_accuracy: 0.1600\n",
      "Epoch 5/25\n",
      "21/21 [==============================] - ETA: 0s - loss: 1.7581 - categorical_accuracy: 0.2036\n",
      "Epoch 00005: saving model to GR_RNN_2021-09-0812_59_28.376712/model-00005-1.75810-0.20362-1.64846-0.16000.h5\n",
      "21/21 [==============================] - 78s 4s/step - loss: 1.7581 - categorical_accuracy: 0.2036 - val_loss: 1.6485 - val_categorical_accuracy: 0.1600\n",
      "Epoch 6/25\n",
      "21/21 [==============================] - ETA: 0s - loss: 1.7405 - categorical_accuracy: 0.2489\n",
      "Epoch 00006: saving model to GR_RNN_2021-09-0812_59_28.376712/model-00006-1.74051-0.24887-1.66815-0.14000.h5\n",
      "21/21 [==============================] - 79s 4s/step - loss: 1.7405 - categorical_accuracy: 0.2489 - val_loss: 1.6682 - val_categorical_accuracy: 0.1400\n",
      "Epoch 7/25\n",
      "21/21 [==============================] - ETA: 0s - loss: 1.7161 - categorical_accuracy: 0.2504\n",
      "Epoch 00007: saving model to GR_RNN_2021-09-0812_59_28.376712/model-00007-1.71615-0.25038-1.66220-0.20000.h5\n",
      "21/21 [==============================] - 78s 4s/step - loss: 1.7161 - categorical_accuracy: 0.2504 - val_loss: 1.6622 - val_categorical_accuracy: 0.2000\n",
      "Epoch 8/25\n",
      "21/21 [==============================] - ETA: 0s - loss: 1.6680 - categorical_accuracy: 0.2896\n",
      "Epoch 00008: saving model to GR_RNN_2021-09-0812_59_28.376712/model-00008-1.66797-0.28959-1.66771-0.16000.h5\n",
      "21/21 [==============================] - 75s 4s/step - loss: 1.6680 - categorical_accuracy: 0.2896 - val_loss: 1.6677 - val_categorical_accuracy: 0.1600\n",
      "Epoch 9/25\n",
      "21/21 [==============================] - ETA: 0s - loss: 1.6448 - categorical_accuracy: 0.2579\n",
      "Epoch 00009: saving model to GR_RNN_2021-09-0812_59_28.376712/model-00009-1.64482-0.25792-1.66547-0.17000.h5\n",
      "21/21 [==============================] - 77s 4s/step - loss: 1.6448 - categorical_accuracy: 0.2579 - val_loss: 1.6655 - val_categorical_accuracy: 0.1700\n",
      "Epoch 10/25\n",
      "21/21 [==============================] - ETA: 0s - loss: 1.6069 - categorical_accuracy: 0.3077\n",
      "Epoch 00010: saving model to GR_RNN_2021-09-0812_59_28.376712/model-00010-1.60691-0.30769-1.67256-0.19000.h5\n",
      "21/21 [==============================] - 78s 4s/step - loss: 1.6069 - categorical_accuracy: 0.3077 - val_loss: 1.6726 - val_categorical_accuracy: 0.1900\n",
      "Epoch 11/25\n",
      "21/21 [==============================] - ETA: 0s - loss: 1.5905 - categorical_accuracy: 0.3258\n",
      "Epoch 00011: saving model to GR_RNN_2021-09-0812_59_28.376712/model-00011-1.59050-0.32579-1.68696-0.20000.h5\n",
      "21/21 [==============================] - 78s 4s/step - loss: 1.5905 - categorical_accuracy: 0.3258 - val_loss: 1.6870 - val_categorical_accuracy: 0.2000\n",
      "Epoch 12/25\n",
      "21/21 [==============================] - ETA: 0s - loss: 1.5846 - categorical_accuracy: 0.2851\n",
      "Epoch 00012: saving model to GR_RNN_2021-09-0812_59_28.376712/model-00012-1.58455-0.28507-1.68675-0.25000.h5\n",
      "21/21 [==============================] - 74s 4s/step - loss: 1.5846 - categorical_accuracy: 0.2851 - val_loss: 1.6867 - val_categorical_accuracy: 0.2500\n",
      "Epoch 13/25\n",
      "21/21 [==============================] - ETA: 0s - loss: 1.6277 - categorical_accuracy: 0.2911\n",
      "Epoch 00013: saving model to GR_RNN_2021-09-0812_59_28.376712/model-00013-1.62765-0.29110-1.68935-0.21000.h5\n",
      "21/21 [==============================] - 76s 4s/step - loss: 1.6277 - categorical_accuracy: 0.2911 - val_loss: 1.6893 - val_categorical_accuracy: 0.2100\n",
      "Epoch 14/25\n",
      "21/21 [==============================] - ETA: 0s - loss: 1.5275 - categorical_accuracy: 0.3213\n",
      "Epoch 00014: saving model to GR_RNN_2021-09-0812_59_28.376712/model-00014-1.52748-0.32127-1.65945-0.23000.h5\n",
      "21/21 [==============================] - 78s 4s/step - loss: 1.5275 - categorical_accuracy: 0.3213 - val_loss: 1.6594 - val_categorical_accuracy: 0.2300\n",
      "Epoch 15/25\n",
      "21/21 [==============================] - ETA: 0s - loss: 1.5890 - categorical_accuracy: 0.2836\n",
      "Epoch 00015: saving model to GR_RNN_2021-09-0812_59_28.376712/model-00015-1.58902-0.28356-1.69506-0.24000.h5\n",
      "21/21 [==============================] - 78s 4s/step - loss: 1.5890 - categorical_accuracy: 0.2836 - val_loss: 1.6951 - val_categorical_accuracy: 0.2400\n",
      "Epoch 16/25\n",
      "21/21 [==============================] - ETA: 0s - loss: 1.5532 - categorical_accuracy: 0.3288\n",
      "Epoch 00016: saving model to GR_RNN_2021-09-0812_59_28.376712/model-00016-1.55322-0.32881-1.63345-0.26000.h5\n",
      "21/21 [==============================] - 74s 4s/step - loss: 1.5532 - categorical_accuracy: 0.3288 - val_loss: 1.6335 - val_categorical_accuracy: 0.2600\n",
      "Epoch 17/25\n",
      "21/21 [==============================] - ETA: 0s - loss: 1.5357 - categorical_accuracy: 0.3379\n",
      "Epoch 00017: saving model to GR_RNN_2021-09-0812_59_28.376712/model-00017-1.53566-0.33786-1.66058-0.31000.h5\n",
      "21/21 [==============================] - 77s 4s/step - loss: 1.5357 - categorical_accuracy: 0.3379 - val_loss: 1.6606 - val_categorical_accuracy: 0.3100\n",
      "Epoch 18/25\n",
      "21/21 [==============================] - ETA: 0s - loss: 1.5571 - categorical_accuracy: 0.3243\n",
      "Epoch 00018: saving model to GR_RNN_2021-09-0812_59_28.376712/model-00018-1.55710-0.32428-1.73379-0.33000.h5\n",
      "21/21 [==============================] - 77s 4s/step - loss: 1.5571 - categorical_accuracy: 0.3243 - val_loss: 1.7338 - val_categorical_accuracy: 0.3300\n",
      "Epoch 19/25\n",
      "21/21 [==============================] - ETA: 0s - loss: 1.5286 - categorical_accuracy: 0.3228\n",
      "Epoch 00019: saving model to GR_RNN_2021-09-0812_59_28.376712/model-00019-1.52860-0.32278-1.72706-0.25000.h5\n",
      "21/21 [==============================] - 78s 4s/step - loss: 1.5286 - categorical_accuracy: 0.3228 - val_loss: 1.7271 - val_categorical_accuracy: 0.2500\n",
      "Epoch 20/25\n",
      "21/21 [==============================] - ETA: 0s - loss: 1.4502 - categorical_accuracy: 0.3741\n",
      "Epoch 00020: saving model to GR_RNN_2021-09-0812_59_28.376712/model-00020-1.45016-0.37406-1.74615-0.29000.h5\n",
      "21/21 [==============================] - 74s 4s/step - loss: 1.4502 - categorical_accuracy: 0.3741 - val_loss: 1.7462 - val_categorical_accuracy: 0.2900\n",
      "Epoch 21/25\n",
      "21/21 [==============================] - ETA: 0s - loss: 1.4940 - categorical_accuracy: 0.3605\n",
      "Epoch 00021: saving model to GR_RNN_2021-09-0812_59_28.376712/model-00021-1.49400-0.36048-1.64128-0.34000.h5\n",
      "21/21 [==============================] - 78s 4s/step - loss: 1.4940 - categorical_accuracy: 0.3605 - val_loss: 1.6413 - val_categorical_accuracy: 0.3400\n",
      "Epoch 22/25\n",
      "21/21 [==============================] - ETA: 0s - loss: 1.4418 - categorical_accuracy: 0.3876\n",
      "Epoch 00022: saving model to GR_RNN_2021-09-0812_59_28.376712/model-00022-1.44181-0.38763-1.57311-0.38000.h5\n",
      "21/21 [==============================] - 77s 4s/step - loss: 1.4418 - categorical_accuracy: 0.3876 - val_loss: 1.5731 - val_categorical_accuracy: 0.3800\n",
      "Epoch 23/25\n",
      "21/21 [==============================] - ETA: 0s - loss: 1.4725 - categorical_accuracy: 0.3409\n",
      "Epoch 00023: saving model to GR_RNN_2021-09-0812_59_28.376712/model-00023-1.47248-0.34087-1.54311-0.44000.h5\n",
      "21/21 [==============================] - 77s 4s/step - loss: 1.4725 - categorical_accuracy: 0.3409 - val_loss: 1.5431 - val_categorical_accuracy: 0.4400\n",
      "Epoch 24/25\n",
      "21/21 [==============================] - ETA: 0s - loss: 1.4815 - categorical_accuracy: 0.3469\n",
      "Epoch 00024: saving model to GR_RNN_2021-09-0812_59_28.376712/model-00024-1.48146-0.34691-1.51222-0.44000.h5\n",
      "21/21 [==============================] - 74s 4s/step - loss: 1.4815 - categorical_accuracy: 0.3469 - val_loss: 1.5122 - val_categorical_accuracy: 0.4400\n",
      "Epoch 25/25\n",
      "21/21 [==============================] - ETA: 0s - loss: 1.4508 - categorical_accuracy: 0.3590\n",
      "Epoch 00025: saving model to GR_RNN_2021-09-0812_59_28.376712/model-00025-1.45085-0.35897-1.49210-0.44000.h5\n",
      "21/21 [==============================] - 77s 4s/step - loss: 1.4508 - categorical_accuracy: 0.3590 - val_loss: 1.4921 - val_categorical_accuracy: 0.4400\n"
     ]
    }
   ],
   "source": [
    "callbacks_list = call_back('GR_RNN')\n",
    "steps_per_epoch, validation_steps = cal_steps()\n",
    "history = model2.fit(train_generator, \n",
    "                               steps_per_epoch=steps_per_epoch, epochs=num_epochs, verbose=1, \n",
    "                    callbacks=callbacks_list, validation_data=val_generator, \n",
    "                    validation_steps=validation_steps,\n",
    "                    class_weight=None,\n",
    "                    workers=1,\n",
    "                    initial_epoch=0)"
   ]
  },
  {
   "cell_type": "markdown",
   "metadata": {},
   "source": [
    "### Plotting"
   ]
  },
  {
   "cell_type": "code",
   "execution_count": 12,
   "metadata": {},
   "outputs": [
    {
     "data": {
      "image/png": "[encoded data removed]",
      "text/plain": [
       "<Figure size 1080x288 with 2 Axes>"
      ]
     },
     "metadata": {
      "needs_background": "light"
     },
     "output_type": "display_data"
    }
   ],
   "source": [
    "plot(history)"
   ]
  },
  {
   "cell_type": "code",
   "execution_count": null,
   "metadata": {},
   "outputs": [],
   "source": []
  },
  {
   "cell_type": "markdown",
   "metadata": {},
   "source": [
    "### Model params"
   ]
  },
  {
   "cell_type": "code",
   "execution_count": 8,
   "metadata": {},
   "outputs": [],
   "source": [
    "batch_size = 32\n",
    "num_epochs = 25\n",
    "img_height = 120\n",
    "img_width = 120\n",
    "frames = 16"
   ]
  },
  {
   "cell_type": "markdown",
   "metadata": {},
   "source": [
    "## Model CNN+RNN Model 2"
   ]
  },
  {
   "cell_type": "code",
   "execution_count": 9,
   "metadata": {},
   "outputs": [
    {
     "name": "stdout",
     "output_type": "stream",
     "text": [
      "Model: \"sequential\"\n",
      "_________________________________________________________________\n",
      "Layer (type)                 Output Shape              Param #   \n",
      "=================================================================\n",
      "time_distributed (TimeDistri (None, 16, 120, 120, 32)  896       \n",
      "_________________________________________________________________\n",
      "time_distributed_1 (TimeDist (None, 16, 120, 120, 32)  0         \n",
      "_________________________________________________________________\n",
      "time_distributed_2 (TimeDist (None, 16, 120, 120, 32)  128       \n",
      "_________________________________________________________________\n",
      "time_distributed_3 (TimeDist (None, 16, 60, 60, 32)    0         \n",
      "_________________________________________________________________\n",
      "time_distributed_4 (TimeDist (None, 16, 60, 60, 64)    18496     \n",
      "_________________________________________________________________\n",
      "time_distributed_5 (TimeDist (None, 16, 60, 60, 64)    0         \n",
      "_________________________________________________________________\n",
      "time_distributed_6 (TimeDist (None, 16, 60, 60, 64)    256       \n",
      "_________________________________________________________________\n",
      "time_distributed_7 (TimeDist (None, 16, 30, 30, 64)    0         \n",
      "_________________________________________________________________\n",
      "time_distributed_8 (TimeDist (None, 16, 30, 30, 128)   73856     \n",
      "_________________________________________________________________\n",
      "time_distributed_9 (TimeDist (None, 16, 30, 30, 128)   0         \n",
      "_________________________________________________________________\n",
      "time_distributed_10 (TimeDis (None, 16, 30, 30, 128)   512       \n",
      "_________________________________________________________________\n",
      "time_distributed_11 (TimeDis (None, 16, 15, 15, 128)   0         \n",
      "_________________________________________________________________\n",
      "time_distributed_12 (TimeDis (None, 16, 15, 15, 256)   295168    \n",
      "_________________________________________________________________\n",
      "time_distributed_13 (TimeDis (None, 16, 15, 15, 256)   0         \n",
      "_________________________________________________________________\n",
      "time_distributed_14 (TimeDis (None, 16, 15, 15, 256)   1024      \n",
      "_________________________________________________________________\n",
      "time_distributed_15 (TimeDis (None, 16, 7, 7, 256)     0         \n",
      "_________________________________________________________________\n",
      "time_distributed_16 (TimeDis (None, 16, 12544)         0         \n",
      "_________________________________________________________________\n",
      "gru (GRU)                    (None, 16, 32)            1207488   \n",
      "_________________________________________________________________\n",
      "gru_1 (GRU)                  (None, 64)                18816     \n",
      "_________________________________________________________________\n",
      "dropout (Dropout)            (None, 64)                0         \n",
      "_________________________________________________________________\n",
      "flatten_1 (Flatten)          (None, 64)                0         \n",
      "_________________________________________________________________\n",
      "dense (Dense)                (None, 128)               8320      \n",
      "_________________________________________________________________\n",
      "activation_4 (Activation)    (None, 128)               0         \n",
      "_________________________________________________________________\n",
      "batch_normalization_4 (Batch (None, 128)               512       \n",
      "_________________________________________________________________\n",
      "dense_1 (Dense)              (None, 256)               33024     \n",
      "_________________________________________________________________\n",
      "activation_5 (Activation)    (None, 256)               0         \n",
      "_________________________________________________________________\n",
      "batch_normalization_5 (Batch (None, 256)               1024      \n",
      "_________________________________________________________________\n",
      "dense_2 (Dense)              (None, 5)                 1285      \n",
      "_________________________________________________________________\n",
      "activation_6 (Activation)    (None, 5)                 0         \n",
      "=================================================================\n",
      "Total params: 1,660,805\n",
      "Trainable params: 1,659,077\n",
      "Non-trainable params: 1,728\n",
      "_________________________________________________________________\n",
      "None\n"
     ]
    }
   ],
   "source": [
    "model2 = Sequential()\n",
    "\n",
    "model2.add(TimeDistributed(Conv2D(32, (3, 3), padding='same'), input_shape=(frames, img_height,img_width, 3)))\n",
    "model2.add(TimeDistributed(Activation('relu')))\n",
    "model2.add(TimeDistributed(BatchNormalization()))\n",
    "model2.add(TimeDistributed(MaxPooling2D(pool_size=(2, 2))))\n",
    "\n",
    "model2.add(TimeDistributed(Conv2D(64, (3, 3), padding='same')))\n",
    "model2.add(TimeDistributed(Activation('relu')))\n",
    "model2.add(TimeDistributed(BatchNormalization()))\n",
    "model2.add(TimeDistributed(MaxPooling2D(pool_size=(2, 2))))\n",
    "    \n",
    "model2.add(TimeDistributed(Conv2D(128, (3, 3), padding='same')))\n",
    "model2.add(TimeDistributed(Activation('relu')))\n",
    "model2.add(TimeDistributed(BatchNormalization()))\n",
    "model2.add(TimeDistributed(MaxPooling2D(pool_size=(2, 2))))\n",
    "\n",
    "model2.add(TimeDistributed(Conv2D(256, (3, 3), padding='same'))) \n",
    "model2.add(TimeDistributed(Activation('relu')))\n",
    "model2.add(TimeDistributed(BatchNormalization()))\n",
    "model2.add(TimeDistributed(MaxPooling2D(pool_size=(2, 2))))\n",
    "\n",
    "model2.add(TimeDistributed(Flatten()))\n",
    "\n",
    "model2.add(GRU(32,return_sequences=True))\n",
    "model2.add(GRU(64))\n",
    "model2.add(Dropout(0.5))\n",
    "    \n",
    "model2.add(Flatten())\n",
    "model2.add(Dense(128))\n",
    "model2.add(Activation('relu'))\n",
    "model2.add(BatchNormalization())\n",
    "\n",
    "model2.add(Dense(256))\n",
    "model2.add(Activation('relu'))\n",
    "model2.add(BatchNormalization())\n",
    "\n",
    "model2.add(Dense(5))\n",
    "model2.add(Activation('softmax'))\n",
    "optimiser = 'SGD'\n",
    "\n",
    "model2.compile(optimizer=optimiser, loss='categorical_crossentropy', metrics=['categorical_accuracy'])\n",
    "print(model2.summary())"
   ]
  },
  {
   "cell_type": "code",
   "execution_count": 10,
   "metadata": {},
   "outputs": [],
   "source": [
    "train_generator = generator(train_path, train_doc, batch_size,img_height, img_width,frames)\n",
    "val_generator = generator(val_path, val_doc, batch_size,img_height, img_width,frames)"
   ]
  },
  {
   "cell_type": "markdown",
   "metadata": {},
   "source": [
    "### Fit the model"
   ]
  },
  {
   "cell_type": "code",
   "execution_count": 11,
   "metadata": {},
   "outputs": [
    {
     "name": "stdout",
     "output_type": "stream",
     "text": [
      "WARNING:tensorflow:`period` argument is deprecated. Please use `save_freq` to specify the frequency in number of batches seen.\n",
      "Epoch 1/25\n",
      "21/21 [==============================] - ETA: 0s - loss: 1.9333 - categorical_accuracy: 0.2760\n",
      "Epoch 00001: saving model to GR_RNN_2021-09-0718_19_12.413523/model-00001-1.93328-0.27602-1.60397-0.22000.h5\n",
      "21/21 [==============================] - 77s 4s/step - loss: 1.9333 - categorical_accuracy: 0.2760 - val_loss: 1.6040 - val_categorical_accuracy: 0.2200\n",
      "Epoch 2/25\n",
      "21/21 [==============================] - ETA: 0s - loss: 1.5965 - categorical_accuracy: 0.3891\n",
      "Epoch 00002: saving model to GR_RNN_2021-09-0718_19_12.413523/model-00002-1.59650-0.38914-1.59675-0.17000.h5\n",
      "21/21 [==============================] - 79s 4s/step - loss: 1.5965 - categorical_accuracy: 0.3891 - val_loss: 1.5967 - val_categorical_accuracy: 0.1700\n",
      "Epoch 3/25\n",
      "21/21 [==============================] - ETA: 0s - loss: 1.4316 - categorical_accuracy: 0.4103\n",
      "Epoch 00003: saving model to GR_RNN_2021-09-0718_19_12.413523/model-00003-1.43160-0.41026-1.62647-0.20000.h5\n",
      "21/21 [==============================] - 77s 4s/step - loss: 1.4316 - categorical_accuracy: 0.4103 - val_loss: 1.6265 - val_categorical_accuracy: 0.2000\n",
      "Epoch 4/25\n",
      "21/21 [==============================] - ETA: 0s - loss: 1.3231 - categorical_accuracy: 0.4585\n",
      "Epoch 00004: saving model to GR_RNN_2021-09-0718_19_12.413523/model-00004-1.32307-0.45852-1.80279-0.27000.h5\n",
      "21/21 [==============================] - 75s 4s/step - loss: 1.3231 - categorical_accuracy: 0.4585 - val_loss: 1.8028 - val_categorical_accuracy: 0.2700\n",
      "Epoch 5/25\n",
      "21/21 [==============================] - ETA: 0s - loss: 1.2700 - categorical_accuracy: 0.4721\n",
      "Epoch 00005: saving model to GR_RNN_2021-09-0718_19_12.413523/model-00005-1.26996-0.47210-1.83606-0.21000.h5\n",
      "21/21 [==============================] - 78s 4s/step - loss: 1.2700 - categorical_accuracy: 0.4721 - val_loss: 1.8361 - val_categorical_accuracy: 0.2100\n",
      "Epoch 6/25\n",
      "21/21 [==============================] - ETA: 0s - loss: 1.0965 - categorical_accuracy: 0.5611\n",
      "Epoch 00006: saving model to GR_RNN_2021-09-0718_19_12.413523/model-00006-1.09650-0.56109-1.99265-0.25000.h5\n",
      "21/21 [==============================] - 78s 4s/step - loss: 1.0965 - categorical_accuracy: 0.5611 - val_loss: 1.9927 - val_categorical_accuracy: 0.2500\n",
      "Epoch 7/25\n",
      "21/21 [==============================] - ETA: 0s - loss: 0.9747 - categorical_accuracy: 0.6003\n",
      "Epoch 00007: saving model to GR_RNN_2021-09-0718_19_12.413523/model-00007-0.97469-0.60030-2.11223-0.19000.h5\n",
      "21/21 [==============================] - 78s 4s/step - loss: 0.9747 - categorical_accuracy: 0.6003 - val_loss: 2.1122 - val_categorical_accuracy: 0.1900\n",
      "Epoch 8/25\n",
      "21/21 [==============================] - ETA: 0s - loss: 0.9363 - categorical_accuracy: 0.6139\n",
      "Epoch 00008: saving model to GR_RNN_2021-09-0718_19_12.413523/model-00008-0.93628-0.61388-2.26753-0.21000.h5\n",
      "21/21 [==============================] - 74s 4s/step - loss: 0.9363 - categorical_accuracy: 0.6139 - val_loss: 2.2675 - val_categorical_accuracy: 0.2100\n",
      "Epoch 9/25\n",
      "21/21 [==============================] - ETA: 0s - loss: 0.8144 - categorical_accuracy: 0.6516\n",
      "Epoch 00009: saving model to GR_RNN_2021-09-0718_19_12.413523/model-00009-0.81443-0.65158-2.41215-0.21000.h5\n",
      "21/21 [==============================] - 76s 4s/step - loss: 0.8144 - categorical_accuracy: 0.6516 - val_loss: 2.4121 - val_categorical_accuracy: 0.2100\n",
      "Epoch 10/25\n",
      "21/21 [==============================] - ETA: 0s - loss: 0.7950 - categorical_accuracy: 0.6893\n",
      "Epoch 00010: saving model to GR_RNN_2021-09-0718_19_12.413523/model-00010-0.79499-0.68929-2.45322-0.22000.h5\n",
      "21/21 [==============================] - 78s 4s/step - loss: 0.7950 - categorical_accuracy: 0.6893 - val_loss: 2.4532 - val_categorical_accuracy: 0.2200\n",
      "Epoch 11/25\n",
      "21/21 [==============================] - ETA: 0s - loss: 0.7178 - categorical_accuracy: 0.7195\n",
      "Epoch 00011: saving model to GR_RNN_2021-09-0718_19_12.413523/model-00011-0.71779-0.71946-2.57463-0.18000.h5\n",
      "21/21 [==============================] - 78s 4s/step - loss: 0.7178 - categorical_accuracy: 0.7195 - val_loss: 2.5746 - val_categorical_accuracy: 0.1800\n",
      "Epoch 12/25\n",
      "21/21 [==============================] - ETA: 0s - loss: 0.6894 - categorical_accuracy: 0.7210\n",
      "Epoch 00012: saving model to GR_RNN_2021-09-0718_19_12.413523/model-00012-0.68943-0.72097-2.53529-0.22000.h5\n",
      "21/21 [==============================] - 75s 4s/step - loss: 0.6894 - categorical_accuracy: 0.7210 - val_loss: 2.5353 - val_categorical_accuracy: 0.2200\n",
      "Epoch 13/25\n",
      "21/21 [==============================] - ETA: 0s - loss: 0.6087 - categorical_accuracy: 0.7692\n",
      "Epoch 00013: saving model to GR_RNN_2021-09-0718_19_12.413523/model-00013-0.60866-0.76923-2.46361-0.26000.h5\n",
      "21/21 [==============================] - 76s 4s/step - loss: 0.6087 - categorical_accuracy: 0.7692 - val_loss: 2.4636 - val_categorical_accuracy: 0.2600\n",
      "Epoch 14/25\n",
      "21/21 [==============================] - ETA: 0s - loss: 0.6180 - categorical_accuracy: 0.7647\n",
      "Epoch 00014: saving model to GR_RNN_2021-09-0718_19_12.413523/model-00014-0.61805-0.76471-2.42511-0.26000.h5\n",
      "21/21 [==============================] - 78s 4s/step - loss: 0.6180 - categorical_accuracy: 0.7647 - val_loss: 2.4251 - val_categorical_accuracy: 0.2600\n",
      "Epoch 15/25\n",
      "21/21 [==============================] - ETA: 0s - loss: 0.5661 - categorical_accuracy: 0.7934\n",
      "Epoch 00015: saving model to GR_RNN_2021-09-0718_19_12.413523/model-00015-0.56613-0.79336-2.27959-0.20000.h5\n",
      "21/21 [==============================] - 79s 4s/step - loss: 0.5661 - categorical_accuracy: 0.7934 - val_loss: 2.2796 - val_categorical_accuracy: 0.2000\n",
      "Epoch 16/25\n",
      "21/21 [==============================] - ETA: 0s - loss: 0.5638 - categorical_accuracy: 0.7903\n",
      "Epoch 00016: saving model to GR_RNN_2021-09-0718_19_12.413523/model-00016-0.56378-0.79035-2.05610-0.33000.h5\n",
      "21/21 [==============================] - 74s 4s/step - loss: 0.5638 - categorical_accuracy: 0.7903 - val_loss: 2.0561 - val_categorical_accuracy: 0.3300\n",
      "Epoch 17/25\n",
      "21/21 [==============================] - ETA: 0s - loss: 0.5630 - categorical_accuracy: 0.7888\n",
      "Epoch 00017: saving model to GR_RNN_2021-09-0718_19_12.413523/model-00017-0.56305-0.78884-1.99593-0.39000.h5\n",
      "21/21 [==============================] - 77s 4s/step - loss: 0.5630 - categorical_accuracy: 0.7888 - val_loss: 1.9959 - val_categorical_accuracy: 0.3900\n",
      "Epoch 18/25\n",
      "21/21 [==============================] - ETA: 0s - loss: 0.5512 - categorical_accuracy: 0.7949\n",
      "Epoch 00018: saving model to GR_RNN_2021-09-0718_19_12.413523/model-00018-0.55122-0.79487-1.99881-0.36000.h5\n",
      "21/21 [==============================] - 77s 4s/step - loss: 0.5512 - categorical_accuracy: 0.7949 - val_loss: 1.9988 - val_categorical_accuracy: 0.3600\n",
      "Epoch 19/25\n",
      "21/21 [==============================] - ETA: 0s - loss: 0.4946 - categorical_accuracy: 0.8115\n",
      "Epoch 00019: saving model to GR_RNN_2021-09-0718_19_12.413523/model-00019-0.49459-0.81146-1.89098-0.40000.h5\n",
      "21/21 [==============================] - 79s 4s/step - loss: 0.4946 - categorical_accuracy: 0.8115 - val_loss: 1.8910 - val_categorical_accuracy: 0.4000\n",
      "Epoch 20/25\n",
      "21/21 [==============================] - ETA: 0s - loss: 0.4853 - categorical_accuracy: 0.8431\n",
      "Epoch 00020: saving model to GR_RNN_2021-09-0718_19_12.413523/model-00020-0.48525-0.84314-1.79817-0.39000.h5\n",
      "21/21 [==============================] - 75s 4s/step - loss: 0.4853 - categorical_accuracy: 0.8431 - val_loss: 1.7982 - val_categorical_accuracy: 0.3900\n",
      "Epoch 21/25\n",
      "21/21 [==============================] - ETA: 0s - loss: 0.4571 - categorical_accuracy: 0.8416\n",
      "Epoch 00021: saving model to GR_RNN_2021-09-0718_19_12.413523/model-00021-0.45708-0.84163-1.67394-0.46000.h5\n",
      "21/21 [==============================] - 77s 4s/step - loss: 0.4571 - categorical_accuracy: 0.8416 - val_loss: 1.6739 - val_categorical_accuracy: 0.4600\n",
      "Epoch 22/25\n",
      "21/21 [==============================] - ETA: 0s - loss: 0.4747 - categorical_accuracy: 0.8401\n",
      "Epoch 00022: saving model to GR_RNN_2021-09-0718_19_12.413523/model-00022-0.47465-0.84012-1.54420-0.51000.h5\n",
      "21/21 [==============================] - 78s 4s/step - loss: 0.4747 - categorical_accuracy: 0.8401 - val_loss: 1.5442 - val_categorical_accuracy: 0.5100\n",
      "Epoch 23/25\n",
      "21/21 [==============================] - ETA: 0s - loss: 0.4507 - categorical_accuracy: 0.8477\n",
      "Epoch 00023: saving model to GR_RNN_2021-09-0718_19_12.413523/model-00023-0.45074-0.84766-1.50208-0.52000.h5\n",
      "21/21 [==============================] - 78s 4s/step - loss: 0.4507 - categorical_accuracy: 0.8477 - val_loss: 1.5021 - val_categorical_accuracy: 0.5200\n",
      "Epoch 24/25\n",
      "21/21 [==============================] - ETA: 0s - loss: 0.4797 - categorical_accuracy: 0.8371\n",
      "Epoch 00024: saving model to GR_RNN_2021-09-0718_19_12.413523/model-00024-0.47969-0.83710-1.41111-0.54000.h5\n",
      "21/21 [==============================] - 74s 4s/step - loss: 0.4797 - categorical_accuracy: 0.8371 - val_loss: 1.4111 - val_categorical_accuracy: 0.5400\n",
      "Epoch 25/25\n",
      "21/21 [==============================] - ETA: 0s - loss: 0.4760 - categorical_accuracy: 0.8160\n",
      "Epoch 00025: saving model to GR_RNN_2021-09-0718_19_12.413523/model-00025-0.47595-0.81599-1.27630-0.55000.h5\n",
      "21/21 [==============================] - 77s 4s/step - loss: 0.4760 - categorical_accuracy: 0.8160 - val_loss: 1.2763 - val_categorical_accuracy: 0.5500\n"
     ]
    }
   ],
   "source": [
    "callbacks_list = call_back('GR_RNN')\n",
    "steps_per_epoch, validation_steps = cal_steps()\n",
    "history = model2.fit(train_generator, \n",
    "                               steps_per_epoch=steps_per_epoch, epochs=num_epochs, verbose=1, \n",
    "                    callbacks=callbacks_list, validation_data=val_generator, \n",
    "                    validation_steps=validation_steps,\n",
    "                    class_weight=None,\n",
    "                    workers=1,\n",
    "                    initial_epoch=0)"
   ]
  },
  {
   "cell_type": "markdown",
   "metadata": {},
   "source": [
    "### Plotting"
   ]
  },
  {
   "cell_type": "code",
   "execution_count": 14,
   "metadata": {
    "scrolled": true
   },
   "outputs": [
    {
     "data": {
      "image/png": "[encoded data removed]",
      "text/plain": [
       "<Figure size 1080x288 with 2 Axes>"
      ]
     },
     "metadata": {
      "needs_background": "light"
     },
     "output_type": "display_data"
    }
   ],
   "source": [
    "plot(history)"
   ]
  },
  {
   "cell_type": "markdown",
   "metadata": {},
   "source": [
    "## CNN+RNN Model 3"
   ]
  },
  {
   "cell_type": "markdown",
   "metadata": {},
   "source": [
    "### Model params"
   ]
  },
  {
   "cell_type": "code",
   "execution_count": 8,
   "metadata": {},
   "outputs": [],
   "source": [
    "batch_size = 20\n",
    "num_epochs = 25\n",
    "img_height = 100\n",
    "img_width = 100\n",
    "frames = 18"
   ]
  },
  {
   "cell_type": "markdown",
   "metadata": {},
   "source": [
    "### Model CNN+ RNN"
   ]
  },
  {
   "cell_type": "code",
   "execution_count": 9,
   "metadata": {},
   "outputs": [
    {
     "name": "stdout",
     "output_type": "stream",
     "text": [
      "Model: \"sequential\"\n",
      "_________________________________________________________________\n",
      "Layer (type)                 Output Shape              Param #   \n",
      "=================================================================\n",
      "time_distributed (TimeDistri (None, 18, 100, 100, 64)  1792      \n",
      "_________________________________________________________________\n",
      "time_distributed_1 (TimeDist (None, 18, 100, 100, 64)  0         \n",
      "_________________________________________________________________\n",
      "time_distributed_2 (TimeDist (None, 18, 100, 100, 64)  256       \n",
      "_________________________________________________________________\n",
      "time_distributed_3 (TimeDist (None, 18, 50, 50, 64)    0         \n",
      "_________________________________________________________________\n",
      "time_distributed_4 (TimeDist (None, 18, 50, 50, 128)   73856     \n",
      "_________________________________________________________________\n",
      "time_distributed_5 (TimeDist (None, 18, 50, 50, 128)   0         \n",
      "_________________________________________________________________\n",
      "time_distributed_6 (TimeDist (None, 18, 50, 50, 128)   512       \n",
      "_________________________________________________________________\n",
      "time_distributed_7 (TimeDist (None, 18, 25, 25, 128)   0         \n",
      "_________________________________________________________________\n",
      "time_distributed_8 (TimeDist (None, 18, 25, 25, 256)   295168    \n",
      "_________________________________________________________________\n",
      "time_distributed_9 (TimeDist (None, 18, 25, 25, 256)   0         \n",
      "_________________________________________________________________\n",
      "time_distributed_10 (TimeDis (None, 18, 25, 25, 256)   1024      \n",
      "_________________________________________________________________\n",
      "time_distributed_11 (TimeDis (None, 18, 12, 12, 256)   0         \n",
      "_________________________________________________________________\n",
      "time_distributed_12 (TimeDis (None, 18, 12, 12, 512)   1180160   \n",
      "_________________________________________________________________\n",
      "time_distributed_13 (TimeDis (None, 18, 12, 12, 512)   0         \n",
      "_________________________________________________________________\n",
      "time_distributed_14 (TimeDis (None, 18, 12, 12, 512)   2048      \n",
      "_________________________________________________________________\n",
      "time_distributed_15 (TimeDis (None, 18, 6, 6, 512)     0         \n",
      "_________________________________________________________________\n",
      "time_distributed_16 (TimeDis (None, 18, 18432)         0         \n",
      "_________________________________________________________________\n",
      "gru (GRU)                    (None, 18, 64)            3551616   \n",
      "_________________________________________________________________\n",
      "gru_1 (GRU)                  (None, 128)               74496     \n",
      "_________________________________________________________________\n",
      "dropout (Dropout)            (None, 128)               0         \n",
      "_________________________________________________________________\n",
      "flatten_1 (Flatten)          (None, 128)               0         \n",
      "_________________________________________________________________\n",
      "dense (Dense)                (None, 128)               16512     \n",
      "_________________________________________________________________\n",
      "activation_4 (Activation)    (None, 128)               0         \n",
      "_________________________________________________________________\n",
      "batch_normalization_4 (Batch (None, 128)               512       \n",
      "_________________________________________________________________\n",
      "dense_1 (Dense)              (None, 256)               33024     \n",
      "_________________________________________________________________\n",
      "activation_5 (Activation)    (None, 256)               0         \n",
      "_________________________________________________________________\n",
      "batch_normalization_5 (Batch (None, 256)               1024      \n",
      "_________________________________________________________________\n",
      "dense_2 (Dense)              (None, 5)                 1285      \n",
      "_________________________________________________________________\n",
      "activation_6 (Activation)    (None, 5)                 0         \n",
      "=================================================================\n",
      "Total params: 5,233,285\n",
      "Trainable params: 5,230,597\n",
      "Non-trainable params: 2,688\n",
      "_________________________________________________________________\n",
      "None\n"
     ]
    }
   ],
   "source": [
    "model2 = Sequential()\n",
    "\n",
    "model2.add(TimeDistributed(Conv2D(64, (3, 3), padding='same'), input_shape=(frames, img_height,img_width, 3)))\n",
    "model2.add(TimeDistributed(Activation('relu')))\n",
    "model2.add(TimeDistributed(BatchNormalization()))\n",
    "model2.add(TimeDistributed(MaxPooling2D(pool_size=(2, 2))))\n",
    "\n",
    "model2.add(TimeDistributed(Conv2D(128, (3, 3), padding='same')))\n",
    "model2.add(TimeDistributed(Activation('relu')))\n",
    "model2.add(TimeDistributed(BatchNormalization()))\n",
    "model2.add(TimeDistributed(MaxPooling2D(pool_size=(2, 2))))\n",
    "    \n",
    "model2.add(TimeDistributed(Conv2D(256, (3, 3), padding='same')))\n",
    "model2.add(TimeDistributed(Activation('relu')))\n",
    "model2.add(TimeDistributed(BatchNormalization()))\n",
    "model2.add(TimeDistributed(MaxPooling2D(pool_size=(2, 2))))\n",
    "\n",
    "model2.add(TimeDistributed(Conv2D(512, (3, 3), padding='same'))) \n",
    "model2.add(TimeDistributed(Activation('relu')))\n",
    "model2.add(TimeDistributed(BatchNormalization()))\n",
    "model2.add(TimeDistributed(MaxPooling2D(pool_size=(2, 2))))\n",
    "\n",
    "model2.add(TimeDistributed(Flatten()))\n",
    "\n",
    "model2.add(GRU(64,return_sequences=True))\n",
    "model2.add(GRU(128))\n",
    "model2.add(Dropout(0.5))\n",
    "    \n",
    "model2.add(Flatten())\n",
    "model2.add(Dense(128))\n",
    "model2.add(Activation('relu'))\n",
    "model2.add(BatchNormalization())\n",
    "\n",
    "model2.add(Dense(256))\n",
    "model2.add(Activation('relu'))\n",
    "model2.add(BatchNormalization())\n",
    "\n",
    "model2.add(Dense(5))\n",
    "model2.add(Activation('softmax'))\n",
    "optimiser = 'SGD'\n",
    "\n",
    "model2.compile(optimizer=optimiser, loss='categorical_crossentropy', metrics=['categorical_accuracy'])\n",
    "print(model2.summary())"
   ]
  },
  {
   "cell_type": "code",
   "execution_count": 10,
   "metadata": {},
   "outputs": [],
   "source": [
    "train_generator = generator(train_path, train_doc, batch_size,img_height, img_width,frames)\n",
    "val_generator = generator(val_path, val_doc, batch_size,img_height, img_width, frames)"
   ]
  },
  {
   "cell_type": "markdown",
   "metadata": {},
   "source": [
    "### Fit the Model"
   ]
  },
  {
   "cell_type": "code",
   "execution_count": 11,
   "metadata": {},
   "outputs": [
    {
     "name": "stdout",
     "output_type": "stream",
     "text": [
      "WARNING:tensorflow:`period` argument is deprecated. Please use `save_freq` to specify the frequency in number of batches seen.\n",
      "Epoch 1/25\n",
      "34/34 [==============================] - ETA: 0s - loss: 1.9549 - categorical_accuracy: 0.2715\n",
      "Epoch 00001: saving model to GR_RNN_2021-09-0719_28_52.701378/model-00001-1.95487-0.27149-1.60879-0.25000.h5\n",
      "34/34 [==============================] - 84s 2s/step - loss: 1.9549 - categorical_accuracy: 0.2715 - val_loss: 1.6088 - val_categorical_accuracy: 0.2500\n",
      "Epoch 2/25\n",
      "34/34 [==============================] - ETA: 0s - loss: 1.7610 - categorical_accuracy: 0.3273\n",
      "Epoch 00002: saving model to GR_RNN_2021-09-0719_28_52.701378/model-00002-1.76102-0.32730-1.69701-0.19000.h5\n",
      "34/34 [==============================] - 86s 3s/step - loss: 1.7610 - categorical_accuracy: 0.3273 - val_loss: 1.6970 - val_categorical_accuracy: 0.1900\n",
      "Epoch 3/25\n",
      "34/34 [==============================] - ETA: 0s - loss: 1.6291 - categorical_accuracy: 0.3167\n",
      "Epoch 00003: saving model to GR_RNN_2021-09-0719_28_52.701378/model-00003-1.62915-0.31674-1.68452-0.22000.h5\n",
      "34/34 [==============================] - 84s 2s/step - loss: 1.6291 - categorical_accuracy: 0.3167 - val_loss: 1.6845 - val_categorical_accuracy: 0.2200\n",
      "Epoch 4/25\n",
      "34/34 [==============================] - ETA: 0s - loss: 1.5140 - categorical_accuracy: 0.3680\n",
      "Epoch 00004: saving model to GR_RNN_2021-09-0719_28_52.701378/model-00004-1.51403-0.36802-1.91475-0.17000.h5\n",
      "34/34 [==============================] - 84s 2s/step - loss: 1.5140 - categorical_accuracy: 0.3680 - val_loss: 1.9147 - val_categorical_accuracy: 0.1700\n",
      "Epoch 5/25\n",
      "34/34 [==============================] - ETA: 0s - loss: 1.4961 - categorical_accuracy: 0.3635\n",
      "Epoch 00005: saving model to GR_RNN_2021-09-0719_28_52.701378/model-00005-1.49609-0.36350-2.35283-0.19000.h5\n",
      "34/34 [==============================] - 85s 3s/step - loss: 1.4961 - categorical_accuracy: 0.3635 - val_loss: 2.3528 - val_categorical_accuracy: 0.1900\n",
      "Epoch 6/25\n",
      "34/34 [==============================] - ETA: 0s - loss: 1.3286 - categorical_accuracy: 0.4359\n",
      "Epoch 00006: saving model to GR_RNN_2021-09-0719_28_52.701378/model-00006-1.32857-0.43590-2.46197-0.19000.h5\n",
      "34/34 [==============================] - 85s 2s/step - loss: 1.3286 - categorical_accuracy: 0.4359 - val_loss: 2.4620 - val_categorical_accuracy: 0.1900\n",
      "Epoch 7/25\n",
      "34/34 [==============================] - ETA: 0s - loss: 1.4038 - categorical_accuracy: 0.4072\n",
      "Epoch 00007: saving model to GR_RNN_2021-09-0719_28_52.701378/model-00007-1.40376-0.40724-3.03151-0.15000.h5\n",
      "34/34 [==============================] - 85s 2s/step - loss: 1.4038 - categorical_accuracy: 0.4072 - val_loss: 3.0315 - val_categorical_accuracy: 0.1500\n",
      "Epoch 8/25\n",
      "34/34 [==============================] - ETA: 0s - loss: 1.2694 - categorical_accuracy: 0.4585\n",
      "Epoch 00008: saving model to GR_RNN_2021-09-0719_28_52.701378/model-00008-1.26945-0.45852-3.40568-0.22000.h5\n",
      "34/34 [==============================] - 85s 2s/step - loss: 1.2694 - categorical_accuracy: 0.4585 - val_loss: 3.4057 - val_categorical_accuracy: 0.2200\n",
      "Epoch 9/25\n",
      "34/34 [==============================] - ETA: 0s - loss: 1.1984 - categorical_accuracy: 0.4691\n",
      "Epoch 00009: saving model to GR_RNN_2021-09-0719_28_52.701378/model-00009-1.19838-0.46908-2.95851-0.23000.h5\n",
      "34/34 [==============================] - 83s 2s/step - loss: 1.1984 - categorical_accuracy: 0.4691 - val_loss: 2.9585 - val_categorical_accuracy: 0.2300\n",
      "Epoch 10/25\n",
      "34/34 [==============================] - ETA: 0s - loss: 1.2106 - categorical_accuracy: 0.4766\n",
      "Epoch 00010: saving model to GR_RNN_2021-09-0719_28_52.701378/model-00010-1.21060-0.47662-3.65442-0.15000.h5\n",
      "34/34 [==============================] - 86s 3s/step - loss: 1.2106 - categorical_accuracy: 0.4766 - val_loss: 3.6544 - val_categorical_accuracy: 0.1500\n",
      "Epoch 11/25\n",
      "34/34 [==============================] - ETA: 0s - loss: 1.1847 - categorical_accuracy: 0.4766\n",
      "Epoch 00011: saving model to GR_RNN_2021-09-0719_28_52.701378/model-00011-1.18470-0.47662-2.71881-0.28000.h5\n",
      "34/34 [==============================] - 85s 3s/step - loss: 1.1847 - categorical_accuracy: 0.4766 - val_loss: 2.7188 - val_categorical_accuracy: 0.2800\n",
      "Epoch 12/25\n",
      "34/34 [==============================] - ETA: 0s - loss: 1.1372 - categorical_accuracy: 0.5083\n",
      "Epoch 00012: saving model to GR_RNN_2021-09-0719_28_52.701378/model-00012-1.13717-0.50830-2.44271-0.29000.h5\n",
      "34/34 [==============================] - 86s 3s/step - loss: 1.1372 - categorical_accuracy: 0.5083 - val_loss: 2.4427 - val_categorical_accuracy: 0.2900\n",
      "Epoch 13/25\n",
      "34/34 [==============================] - ETA: 0s - loss: 1.1369 - categorical_accuracy: 0.5339\n",
      "Epoch 00013: saving model to GR_RNN_2021-09-0719_28_52.701378/model-00013-1.13689-0.53394-2.04004-0.29000.h5\n",
      "34/34 [==============================] - 84s 2s/step - loss: 1.1369 - categorical_accuracy: 0.5339 - val_loss: 2.0400 - val_categorical_accuracy: 0.2900\n",
      "Epoch 14/25\n",
      "34/34 [==============================] - ETA: 0s - loss: 1.0955 - categorical_accuracy: 0.5505\n",
      "Epoch 00014: saving model to GR_RNN_2021-09-0719_28_52.701378/model-00014-1.09547-0.55053-1.77030-0.33000.h5\n",
      "34/34 [==============================] - 83s 2s/step - loss: 1.0955 - categorical_accuracy: 0.5505 - val_loss: 1.7703 - val_categorical_accuracy: 0.3300\n",
      "Epoch 15/25\n",
      "34/34 [==============================] - ETA: 0s - loss: 1.0952 - categorical_accuracy: 0.5324\n",
      "Epoch 00015: saving model to GR_RNN_2021-09-0719_28_52.701378/model-00015-1.09516-0.53243-1.73262-0.33000.h5\n",
      "34/34 [==============================] - 82s 2s/step - loss: 1.0952 - categorical_accuracy: 0.5324 - val_loss: 1.7326 - val_categorical_accuracy: 0.3300\n",
      "Epoch 16/25\n",
      "34/34 [==============================] - ETA: 0s - loss: 1.1001 - categorical_accuracy: 0.5249\n",
      "Epoch 00016: saving model to GR_RNN_2021-09-0719_28_52.701378/model-00016-1.10008-0.52489-1.40940-0.42000.h5\n",
      "34/34 [==============================] - 82s 2s/step - loss: 1.1001 - categorical_accuracy: 0.5249 - val_loss: 1.4094 - val_categorical_accuracy: 0.4200\n",
      "Epoch 17/25\n",
      "34/34 [==============================] - ETA: 0s - loss: 1.0473 - categorical_accuracy: 0.5566\n",
      "Epoch 00017: saving model to GR_RNN_2021-09-0719_28_52.701378/model-00017-1.04728-0.55656-1.40522-0.43000.h5\n",
      "34/34 [==============================] - 82s 2s/step - loss: 1.0473 - categorical_accuracy: 0.5566 - val_loss: 1.4052 - val_categorical_accuracy: 0.4300\n",
      "Epoch 18/25\n",
      "34/34 [==============================] - ETA: 0s - loss: 1.0840 - categorical_accuracy: 0.5339\n",
      "Epoch 00018: saving model to GR_RNN_2021-09-0719_28_52.701378/model-00018-1.08396-0.53394-1.09274-0.51000.h5\n",
      "34/34 [==============================] - 82s 2s/step - loss: 1.0840 - categorical_accuracy: 0.5339 - val_loss: 1.0927 - val_categorical_accuracy: 0.5100\n",
      "Epoch 19/25\n",
      "34/34 [==============================] - ETA: 0s - loss: 1.0383 - categorical_accuracy: 0.5566\n",
      "Epoch 00019: saving model to GR_RNN_2021-09-0719_28_52.701378/model-00019-1.03835-0.55656-1.16957-0.52000.h5\n",
      "34/34 [==============================] - 84s 2s/step - loss: 1.0383 - categorical_accuracy: 0.5566 - val_loss: 1.1696 - val_categorical_accuracy: 0.5200\n",
      "Epoch 20/25\n",
      "34/34 [==============================] - ETA: 0s - loss: 1.0328 - categorical_accuracy: 0.5656\n",
      "Epoch 00020: saving model to GR_RNN_2021-09-0719_28_52.701378/model-00020-1.03279-0.56561-1.07482-0.59000.h5\n",
      "34/34 [==============================] - 81s 2s/step - loss: 1.0328 - categorical_accuracy: 0.5656 - val_loss: 1.0748 - val_categorical_accuracy: 0.5900\n",
      "Epoch 21/25\n",
      "34/34 [==============================] - ETA: 0s - loss: 1.0386 - categorical_accuracy: 0.5656\n",
      "Epoch 00021: saving model to GR_RNN_2021-09-0719_28_52.701378/model-00021-1.03856-0.56561-1.20846-0.54000.h5\n",
      "34/34 [==============================] - 81s 2s/step - loss: 1.0386 - categorical_accuracy: 0.5656 - val_loss: 1.2085 - val_categorical_accuracy: 0.5400\n",
      "Epoch 22/25\n",
      "34/34 [==============================] - ETA: 0s - loss: 1.0369 - categorical_accuracy: 0.5656\n",
      "Epoch 00022: saving model to GR_RNN_2021-09-0719_28_52.701378/model-00022-1.03691-0.56561-1.16571-0.55000.h5\n",
      "34/34 [==============================] - 79s 2s/step - loss: 1.0369 - categorical_accuracy: 0.5656 - val_loss: 1.1657 - val_categorical_accuracy: 0.5500\n",
      "Epoch 23/25\n",
      "34/34 [==============================] - ETA: 0s - loss: 0.9927 - categorical_accuracy: 0.5822\n",
      "Epoch 00023: saving model to GR_RNN_2021-09-0719_28_52.701378/model-00023-0.99269-0.58220-1.11169-0.62000.h5\n",
      "34/34 [==============================] - 83s 2s/step - loss: 0.9927 - categorical_accuracy: 0.5822 - val_loss: 1.1117 - val_categorical_accuracy: 0.6200\n",
      "Epoch 24/25\n",
      "34/34 [==============================] - ETA: 0s - loss: 0.9799 - categorical_accuracy: 0.5822\n",
      "Epoch 00024: saving model to GR_RNN_2021-09-0719_28_52.701378/model-00024-0.97990-0.58220-1.00680-0.64000.h5\n",
      "34/34 [==============================] - 81s 2s/step - loss: 0.9799 - categorical_accuracy: 0.5822 - val_loss: 1.0068 - val_categorical_accuracy: 0.6400\n",
      "Epoch 25/25\n",
      "34/34 [==============================] - ETA: 0s - loss: 0.9616 - categorical_accuracy: 0.5913\n",
      "Epoch 00025: saving model to GR_RNN_2021-09-0719_28_52.701378/model-00025-0.96163-0.59125-0.95036-0.67000.h5\n",
      "34/34 [==============================] - 82s 2s/step - loss: 0.9616 - categorical_accuracy: 0.5913 - val_loss: 0.9504 - val_categorical_accuracy: 0.6700\n"
     ]
    }
   ],
   "source": [
    "callbacks_list = call_back('GR_RNN')\n",
    "steps_per_epoch, validation_steps = cal_steps()\n",
    "history = model2.fit(train_generator, \n",
    "                               steps_per_epoch=steps_per_epoch, epochs=num_epochs, verbose=1, \n",
    "                    callbacks=callbacks_list, validation_data=val_generator, \n",
    "                    validation_steps=validation_steps,\n",
    "                    class_weight=None,\n",
    "                    workers=1,\n",
    "                    initial_epoch=0)"
   ]
  },
  {
   "cell_type": "markdown",
   "metadata": {},
   "source": [
    "### Plotting"
   ]
  },
  {
   "cell_type": "code",
   "execution_count": 12,
   "metadata": {
    "scrolled": true
   },
   "outputs": [
    {
     "data": {
      "image/png": "[encoded data removed]",
      "text/plain": [
       "<Figure size 1080x288 with 2 Axes>"
      ]
     },
     "metadata": {
      "needs_background": "light"
     },
     "output_type": "display_data"
    }
   ],
   "source": [
    "plot(history)"
   ]
  },
  {
   "cell_type": "markdown",
   "metadata": {},
   "source": [
    "## CNN+RNN Model 4"
   ]
  },
  {
   "cell_type": "markdown",
   "metadata": {},
   "source": [
    "### Model params"
   ]
  },
  {
   "cell_type": "code",
   "execution_count": 13,
   "metadata": {},
   "outputs": [],
   "source": [
    "batch_size = 10\n",
    "num_epochs = 50\n",
    "img_height = 120\n",
    "img_width = 120\n",
    "frames = 15"
   ]
  },
  {
   "cell_type": "markdown",
   "metadata": {},
   "source": [
    "### Model CNN+ RNN"
   ]
  },
  {
   "cell_type": "code",
   "execution_count": 14,
   "metadata": {},
   "outputs": [
    {
     "name": "stdout",
     "output_type": "stream",
     "text": [
      "Model: \"sequential_1\"\n",
      "_________________________________________________________________\n",
      "Layer (type)                 Output Shape              Param #   \n",
      "=================================================================\n",
      "conv3d (Conv3D)              (None, 15, 120, 120, 128) 10496     \n",
      "_________________________________________________________________\n",
      "activation_7 (Activation)    (None, 15, 120, 120, 128) 0         \n",
      "_________________________________________________________________\n",
      "batch_normalization_6 (Batch (None, 15, 120, 120, 128) 512       \n",
      "_________________________________________________________________\n",
      "max_pooling3d (MaxPooling3D) (None, 8, 60, 60, 128)    0         \n",
      "_________________________________________________________________\n",
      "conv3d_1 (Conv3D)            (None, 8, 60, 60, 256)    884992    \n",
      "_________________________________________________________________\n",
      "activation_8 (Activation)    (None, 8, 60, 60, 256)    0         \n",
      "_________________________________________________________________\n",
      "batch_normalization_7 (Batch (None, 8, 60, 60, 256)    1024      \n",
      "_________________________________________________________________\n",
      "max_pooling3d_1 (MaxPooling3 (None, 4, 30, 30, 256)    0         \n",
      "_________________________________________________________________\n",
      "conv3d_2 (Conv3D)            (None, 4, 30, 30, 256)    1769728   \n",
      "_________________________________________________________________\n",
      "activation_9 (Activation)    (None, 4, 30, 30, 256)    0         \n",
      "_________________________________________________________________\n",
      "batch_normalization_8 (Batch (None, 4, 30, 30, 256)    1024      \n",
      "_________________________________________________________________\n",
      "max_pooling3d_2 (MaxPooling3 (None, 2, 15, 15, 256)    0         \n",
      "_________________________________________________________________\n",
      "dropout_1 (Dropout)          (None, 2, 15, 15, 256)    0         \n",
      "_________________________________________________________________\n",
      "conv3d_3 (Conv3D)            (None, 2, 15, 15, 512)    3539456   \n",
      "_________________________________________________________________\n",
      "activation_10 (Activation)   (None, 2, 15, 15, 512)    0         \n",
      "_________________________________________________________________\n",
      "batch_normalization_9 (Batch (None, 2, 15, 15, 512)    2048      \n",
      "_________________________________________________________________\n",
      "max_pooling3d_3 (MaxPooling3 (None, 1, 7, 7, 512)      0         \n",
      "_________________________________________________________________\n",
      "time_distributed_17 (TimeDis (None, 1, 25088)          0         \n",
      "_________________________________________________________________\n",
      "gru_2 (GRU)                  (None, 1, 128)            9683712   \n",
      "_________________________________________________________________\n",
      "gru_3 (GRU)                  (None, 256)               296448    \n",
      "_________________________________________________________________\n",
      "dropout_2 (Dropout)          (None, 256)               0         \n",
      "_________________________________________________________________\n",
      "flatten_3 (Flatten)          (None, 256)               0         \n",
      "_________________________________________________________________\n",
      "dense_3 (Dense)              (None, 128)               32896     \n",
      "_________________________________________________________________\n",
      "activation_11 (Activation)   (None, 128)               0         \n",
      "_________________________________________________________________\n",
      "batch_normalization_10 (Batc (None, 128)               512       \n",
      "_________________________________________________________________\n",
      "dense_4 (Dense)              (None, 5)                 645       \n",
      "_________________________________________________________________\n",
      "activation_12 (Activation)   (None, 5)                 0         \n",
      "=================================================================\n",
      "Total params: 16,223,493\n",
      "Trainable params: 16,220,933\n",
      "Non-trainable params: 2,560\n",
      "_________________________________________________________________\n",
      "None\n"
     ]
    }
   ],
   "source": [
    "model1 = Sequential()\n",
    "model1.add(Conv3D(128, (3, 3, 3), padding='same', input_shape=(frames, img_height,img_width, 3)))\n",
    "model1.add(Activation('relu'))\n",
    "model1.add(BatchNormalization())\n",
    "model1.add(MaxPooling3D(pool_size=(2, 2, 2), padding = 'same'))\n",
    "\n",
    "model1.add(Conv3D(256, (3, 3, 3), padding='same'))\n",
    "model1.add(Activation('relu'))\n",
    "model1.add(BatchNormalization())\n",
    "model1.add(MaxPooling3D(pool_size=(2, 2, 2)))\n",
    "    \n",
    "model1.add(Conv3D(256, (3, 3, 3), padding='same'))\n",
    "model1.add(Activation('relu'))\n",
    "model1.add(BatchNormalization())\n",
    "model1.add(MaxPooling3D(pool_size=(2, 2, 2)))\n",
    "model1.add(Dropout(0.20))\n",
    "\n",
    "model1.add(Conv3D(512, (3, 3, 3), padding='same'))    \n",
    "model1.add(Activation('relu'))\n",
    "model1.add(BatchNormalization())\n",
    "model1.add(MaxPooling3D(pool_size=(2, 2, 2)))\n",
    "\n",
    "model1.add(TimeDistributed(Flatten()))\n",
    "model1.add(GRU(128, return_sequences=True))\n",
    "model1.add(GRU(256))\n",
    "model1.add(Dropout(0.5))\n",
    "    \n",
    "model1.add(Flatten())\n",
    "model1.add(Dense(128))\n",
    "model1.add(Activation('relu'))\n",
    "model1.add(BatchNormalization())\n",
    "\n",
    "model1.add(Dense(5))\n",
    "model1.add(Activation('softmax'))\n",
    "optimiser = 'SGD'\n",
    "\n",
    "model1.compile(optimizer=optimiser, loss='categorical_crossentropy', metrics=['categorical_accuracy'])\n",
    "print(model1.summary())"
   ]
  },
  {
   "cell_type": "code",
   "execution_count": 15,
   "metadata": {},
   "outputs": [],
   "source": [
    "train_generator = generator(train_path, train_doc, batch_size,img_height, img_width,frames)\n",
    "val_generator = generator(val_path, val_doc, batch_size,img_height, img_width, frames)"
   ]
  },
  {
   "cell_type": "markdown",
   "metadata": {},
   "source": [
    "### Fit the Model"
   ]
  },
  {
   "cell_type": "code",
   "execution_count": 16,
   "metadata": {},
   "outputs": [
    {
     "name": "stdout",
     "output_type": "stream",
     "text": [
      "WARNING:tensorflow:`period` argument is deprecated. Please use `save_freq` to specify the frequency in number of batches seen.\n",
      "Epoch 1/50\n",
      "67/67 [==============================] - ETA: 0s - loss: 1.7973 - categorical_accuracy: 0.2685\n",
      "Epoch 00001: saving model to GR_RNN_2021-09-0719_28_52.701378/model-00001-1.79732-0.26848-1.61818-0.14000.h5\n",
      "67/67 [==============================] - 70s 1s/step - loss: 1.7973 - categorical_accuracy: 0.2685 - val_loss: 1.6182 - val_categorical_accuracy: 0.1400\n",
      "Epoch 2/50\n",
      "67/67 [==============================] - ETA: 0s - loss: 1.5775 - categorical_accuracy: 0.3590\n",
      "Epoch 00002: saving model to GR_RNN_2021-09-0719_28_52.701378/model-00002-1.57749-0.35897-1.65744-0.21000.h5\n",
      "67/67 [==============================] - 70s 1s/step - loss: 1.5775 - categorical_accuracy: 0.3590 - val_loss: 1.6574 - val_categorical_accuracy: 0.2100\n",
      "Epoch 3/50\n",
      "67/67 [==============================] - ETA: 0s - loss: 1.4160 - categorical_accuracy: 0.3967\n",
      "Epoch 00003: saving model to GR_RNN_2021-09-0719_28_52.701378/model-00003-1.41603-0.39668-1.84845-0.21000.h5\n",
      "67/67 [==============================] - 69s 1s/step - loss: 1.4160 - categorical_accuracy: 0.3967 - val_loss: 1.8485 - val_categorical_accuracy: 0.2100\n",
      "Epoch 4/50\n",
      "67/67 [==============================] - ETA: 0s - loss: 1.2545 - categorical_accuracy: 0.4525\n",
      "Epoch 00004: saving model to GR_RNN_2021-09-0719_28_52.701378/model-00004-1.25451-0.45249-2.09478-0.25000.h5\n",
      "67/67 [==============================] - 69s 1s/step - loss: 1.2545 - categorical_accuracy: 0.4525 - val_loss: 2.0948 - val_categorical_accuracy: 0.2500\n",
      "Epoch 5/50\n",
      "67/67 [==============================] - ETA: 0s - loss: 1.1654 - categorical_accuracy: 0.4887\n",
      "Epoch 00005: saving model to GR_RNN_2021-09-0719_28_52.701378/model-00005-1.16539-0.48869-2.31729-0.29000.h5\n",
      "67/67 [==============================] - 70s 1s/step - loss: 1.1654 - categorical_accuracy: 0.4887 - val_loss: 2.3173 - val_categorical_accuracy: 0.2900\n",
      "Epoch 6/50\n",
      "67/67 [==============================] - ETA: 0s - loss: 1.0529 - categorical_accuracy: 0.5505\n",
      "Epoch 00006: saving model to GR_RNN_2021-09-0719_28_52.701378/model-00006-1.05292-0.55053-2.62847-0.22000.h5\n",
      "67/67 [==============================] - 69s 1s/step - loss: 1.0529 - categorical_accuracy: 0.5505 - val_loss: 2.6285 - val_categorical_accuracy: 0.2200\n",
      "Epoch 7/50\n",
      "67/67 [==============================] - ETA: 0s - loss: 0.9769 - categorical_accuracy: 0.5913\n",
      "Epoch 00007: saving model to GR_RNN_2021-09-0719_28_52.701378/model-00007-0.97694-0.59125-1.97273-0.29000.h5\n",
      "67/67 [==============================] - 69s 1s/step - loss: 0.9769 - categorical_accuracy: 0.5913 - val_loss: 1.9727 - val_categorical_accuracy: 0.2900\n",
      "Epoch 8/50\n",
      "67/67 [==============================] - ETA: 0s - loss: 0.8856 - categorical_accuracy: 0.6471\n",
      "Epoch 00008: saving model to GR_RNN_2021-09-0719_28_52.701378/model-00008-0.88559-0.64706-1.55827-0.39000.h5\n",
      "67/67 [==============================] - 69s 1s/step - loss: 0.8856 - categorical_accuracy: 0.6471 - val_loss: 1.5583 - val_categorical_accuracy: 0.3900\n",
      "Epoch 9/50\n",
      "67/67 [==============================] - ETA: 0s - loss: 0.7723 - categorical_accuracy: 0.7104\n",
      "Epoch 00009: saving model to GR_RNN_2021-09-0719_28_52.701378/model-00009-0.77234-0.71041-0.88740-0.64000.h5\n",
      "67/67 [==============================] - 69s 1s/step - loss: 0.7723 - categorical_accuracy: 0.7104 - val_loss: 0.8874 - val_categorical_accuracy: 0.6400\n",
      "Epoch 10/50\n",
      "67/67 [==============================] - ETA: 0s - loss: 0.7544 - categorical_accuracy: 0.6983\n",
      "Epoch 00010: saving model to GR_RNN_2021-09-0719_28_52.701378/model-00010-0.75441-0.69834-0.94154-0.62000.h5\n",
      "67/67 [==============================] - 69s 1s/step - loss: 0.7544 - categorical_accuracy: 0.6983 - val_loss: 0.9415 - val_categorical_accuracy: 0.6200\n",
      "Epoch 11/50\n",
      "67/67 [==============================] - ETA: 0s - loss: 0.7128 - categorical_accuracy: 0.7164\n",
      "Epoch 00011: saving model to GR_RNN_2021-09-0719_28_52.701378/model-00011-0.71284-0.71644-0.70916-0.76000.h5\n",
      "67/67 [==============================] - 68s 1s/step - loss: 0.7128 - categorical_accuracy: 0.7164 - val_loss: 0.7092 - val_categorical_accuracy: 0.7600\n",
      "Epoch 12/50\n",
      "67/67 [==============================] - ETA: 0s - loss: 0.6215 - categorical_accuracy: 0.7692\n",
      "Epoch 00012: saving model to GR_RNN_2021-09-0719_28_52.701378/model-00012-0.62149-0.76923-0.70691-0.72000.h5\n",
      "67/67 [==============================] - 69s 1s/step - loss: 0.6215 - categorical_accuracy: 0.7692 - val_loss: 0.7069 - val_categorical_accuracy: 0.7200\n",
      "Epoch 13/50\n",
      "67/67 [==============================] - ETA: 0s - loss: 0.6072 - categorical_accuracy: 0.7768\n",
      "Epoch 00013: saving model to GR_RNN_2021-09-0719_28_52.701378/model-00013-0.60717-0.77677-0.63508-0.77000.h5\n",
      "67/67 [==============================] - 69s 1s/step - loss: 0.6072 - categorical_accuracy: 0.7768 - val_loss: 0.6351 - val_categorical_accuracy: 0.7700\n",
      "Epoch 14/50\n",
      "67/67 [==============================] - ETA: 0s - loss: 0.5839 - categorical_accuracy: 0.7828\n",
      "Epoch 00014: saving model to GR_RNN_2021-09-0719_28_52.701378/model-00014-0.58389-0.78281-0.60338-0.82000.h5\n",
      "67/67 [==============================] - 69s 1s/step - loss: 0.5839 - categorical_accuracy: 0.7828 - val_loss: 0.6034 - val_categorical_accuracy: 0.8200\n",
      "Epoch 15/50\n",
      "67/67 [==============================] - ETA: 0s - loss: 0.4713 - categorical_accuracy: 0.8281\n",
      "Epoch 00015: saving model to GR_RNN_2021-09-0719_28_52.701378/model-00015-0.47134-0.82805-0.70530-0.75000.h5\n",
      "67/67 [==============================] - 69s 1s/step - loss: 0.4713 - categorical_accuracy: 0.8281 - val_loss: 0.7053 - val_categorical_accuracy: 0.7500\n",
      "Epoch 16/50\n",
      "67/67 [==============================] - ETA: 0s - loss: 0.4377 - categorical_accuracy: 0.8612\n",
      "Epoch 00016: saving model to GR_RNN_2021-09-0719_28_52.701378/model-00016-0.43771-0.86124-0.77839-0.73000.h5\n",
      "67/67 [==============================] - 69s 1s/step - loss: 0.4377 - categorical_accuracy: 0.8612 - val_loss: 0.7784 - val_categorical_accuracy: 0.7300\n",
      "Epoch 17/50\n",
      "67/67 [==============================] - ETA: 0s - loss: 0.3887 - categorical_accuracy: 0.8748\n",
      "Epoch 00017: saving model to GR_RNN_2021-09-0719_28_52.701378/model-00017-0.38874-0.87481-0.54057-0.79000.h5\n",
      "67/67 [==============================] - 68s 1s/step - loss: 0.3887 - categorical_accuracy: 0.8748 - val_loss: 0.5406 - val_categorical_accuracy: 0.7900\n",
      "Epoch 18/50\n",
      "67/67 [==============================] - ETA: 0s - loss: 0.3394 - categorical_accuracy: 0.9080\n",
      "Epoch 00018: saving model to GR_RNN_2021-09-0719_28_52.701378/model-00018-0.33943-0.90799-0.52614-0.82000.h5\n",
      "67/67 [==============================] - 68s 1s/step - loss: 0.3394 - categorical_accuracy: 0.9080 - val_loss: 0.5261 - val_categorical_accuracy: 0.8200\n",
      "Epoch 19/50\n",
      "67/67 [==============================] - ETA: 0s - loss: 0.3423 - categorical_accuracy: 0.8793\n",
      "Epoch 00019: saving model to GR_RNN_2021-09-0719_28_52.701378/model-00019-0.34228-0.87934-0.41780-0.86000.h5\n",
      "67/67 [==============================] - 68s 1s/step - loss: 0.3423 - categorical_accuracy: 0.8793 - val_loss: 0.4178 - val_categorical_accuracy: 0.8600\n",
      "Epoch 20/50\n",
      "67/67 [==============================] - ETA: 0s - loss: 0.2819 - categorical_accuracy: 0.9170\n",
      "Epoch 00020: saving model to GR_RNN_2021-09-0719_28_52.701378/model-00020-0.28190-0.91704-0.37160-0.87000.h5\n",
      "67/67 [==============================] - 69s 1s/step - loss: 0.2819 - categorical_accuracy: 0.9170 - val_loss: 0.3716 - val_categorical_accuracy: 0.8700\n",
      "Epoch 21/50\n",
      "67/67 [==============================] - ETA: 0s - loss: 0.2278 - categorical_accuracy: 0.9412\n",
      "Epoch 00021: saving model to GR_RNN_2021-09-0719_28_52.701378/model-00021-0.22777-0.94118-0.42299-0.84000.h5\n",
      "67/67 [==============================] - 68s 1s/step - loss: 0.2278 - categorical_accuracy: 0.9412 - val_loss: 0.4230 - val_categorical_accuracy: 0.8400\n",
      "Epoch 22/50\n",
      "67/67 [==============================] - ETA: 0s - loss: 0.2451 - categorical_accuracy: 0.9261\n",
      "Epoch 00022: saving model to GR_RNN_2021-09-0719_28_52.701378/model-00022-0.24506-0.92609-0.41227-0.82000.h5\n",
      "67/67 [==============================] - 68s 1s/step - loss: 0.2451 - categorical_accuracy: 0.9261 - val_loss: 0.4123 - val_categorical_accuracy: 0.8200\n",
      "Epoch 23/50\n",
      "67/67 [==============================] - ETA: 0s - loss: 0.2004 - categorical_accuracy: 0.9532\n",
      "Epoch 00023: saving model to GR_RNN_2021-09-0719_28_52.701378/model-00023-0.20038-0.95324-0.44713-0.81000.h5\n",
      "67/67 [==============================] - 69s 1s/step - loss: 0.2004 - categorical_accuracy: 0.9532 - val_loss: 0.4471 - val_categorical_accuracy: 0.8100\n",
      "Epoch 24/50\n",
      "67/67 [==============================] - ETA: 0s - loss: 0.1485 - categorical_accuracy: 0.9638\n",
      "Epoch 00024: saving model to GR_RNN_2021-09-0719_28_52.701378/model-00024-0.14847-0.96380-0.58877-0.85000.h5\n",
      "67/67 [==============================] - 68s 1s/step - loss: 0.1485 - categorical_accuracy: 0.9638 - val_loss: 0.5888 - val_categorical_accuracy: 0.8500\n",
      "Epoch 25/50\n",
      "67/67 [==============================] - ETA: 0s - loss: 0.1698 - categorical_accuracy: 0.9593\n",
      "Epoch 00025: saving model to GR_RNN_2021-09-0719_28_52.701378/model-00025-0.16976-0.95928-0.34458-0.88000.h5\n",
      "67/67 [==============================] - 67s 1s/step - loss: 0.1698 - categorical_accuracy: 0.9593 - val_loss: 0.3446 - val_categorical_accuracy: 0.8800\n",
      "Epoch 26/50\n",
      "67/67 [==============================] - ETA: 0s - loss: 0.1371 - categorical_accuracy: 0.9698\n",
      "Epoch 00026: saving model to GR_RNN_2021-09-0719_28_52.701378/model-00026-0.13709-0.96983-0.50181-0.78000.h5\n",
      "67/67 [==============================] - 69s 1s/step - loss: 0.1371 - categorical_accuracy: 0.9698 - val_loss: 0.5018 - val_categorical_accuracy: 0.7800\n",
      "Epoch 27/50\n",
      "67/67 [==============================] - ETA: 0s - loss: 0.1348 - categorical_accuracy: 0.9668\n",
      "Epoch 00027: saving model to GR_RNN_2021-09-0719_28_52.701378/model-00027-0.13481-0.96682-0.44672-0.81000.h5\n",
      "67/67 [==============================] - 68s 1s/step - loss: 0.1348 - categorical_accuracy: 0.9668 - val_loss: 0.4467 - val_categorical_accuracy: 0.8100\n",
      "Epoch 28/50\n",
      "67/67 [==============================] - ETA: 0s - loss: 0.1476 - categorical_accuracy: 0.9593\n",
      "Epoch 00028: saving model to GR_RNN_2021-09-0719_28_52.701378/model-00028-0.14757-0.95928-0.33155-0.89000.h5\n",
      "67/67 [==============================] - 68s 1s/step - loss: 0.1476 - categorical_accuracy: 0.9593 - val_loss: 0.3315 - val_categorical_accuracy: 0.8900\n",
      "Epoch 29/50\n",
      "67/67 [==============================] - ETA: 0s - loss: 0.1208 - categorical_accuracy: 0.9713\n",
      "Epoch 00029: saving model to GR_RNN_2021-09-0719_28_52.701378/model-00029-0.12080-0.97134-0.38396-0.88000.h5\n",
      "67/67 [==============================] - 69s 1s/step - loss: 0.1208 - categorical_accuracy: 0.9713 - val_loss: 0.3840 - val_categorical_accuracy: 0.8800\n",
      "Epoch 30/50\n",
      "67/67 [==============================] - ETA: 0s - loss: 0.1198 - categorical_accuracy: 0.9668\n",
      "Epoch 00030: saving model to GR_RNN_2021-09-0719_28_52.701378/model-00030-0.11976-0.96682-0.35137-0.85000.h5\n",
      "67/67 [==============================] - 68s 1s/step - loss: 0.1198 - categorical_accuracy: 0.9668 - val_loss: 0.3514 - val_categorical_accuracy: 0.8500\n",
      "Epoch 31/50\n",
      "67/67 [==============================] - ETA: 0s - loss: 0.1034 - categorical_accuracy: 0.9759\n",
      "Epoch 00031: saving model to GR_RNN_2021-09-0719_28_52.701378/model-00031-0.10338-0.97587-0.43194-0.84000.h5\n",
      "67/67 [==============================] - 69s 1s/step - loss: 0.1034 - categorical_accuracy: 0.9759 - val_loss: 0.4319 - val_categorical_accuracy: 0.8400\n",
      "Epoch 32/50\n",
      "67/67 [==============================] - ETA: 0s - loss: 0.1057 - categorical_accuracy: 0.9834\n",
      "Epoch 00032: saving model to GR_RNN_2021-09-0719_28_52.701378/model-00032-0.10567-0.98341-0.46824-0.81000.h5\n",
      "67/67 [==============================] - 68s 1s/step - loss: 0.1057 - categorical_accuracy: 0.9834 - val_loss: 0.4682 - val_categorical_accuracy: 0.8100\n",
      "Epoch 33/50\n",
      "67/67 [==============================] - ETA: 0s - loss: 0.0974 - categorical_accuracy: 0.9744\n",
      "Epoch 00033: saving model to GR_RNN_2021-09-0719_28_52.701378/model-00033-0.09743-0.97436-0.27692-0.90000.h5\n",
      "67/67 [==============================] - 68s 1s/step - loss: 0.0974 - categorical_accuracy: 0.9744 - val_loss: 0.2769 - val_categorical_accuracy: 0.9000\n",
      "Epoch 34/50\n",
      "67/67 [==============================] - ETA: 0s - loss: 0.1055 - categorical_accuracy: 0.9683\n",
      "Epoch 00034: saving model to GR_RNN_2021-09-0719_28_52.701378/model-00034-0.10546-0.96833-0.31079-0.86000.h5\n",
      "67/67 [==============================] - 68s 1s/step - loss: 0.1055 - categorical_accuracy: 0.9683 - val_loss: 0.3108 - val_categorical_accuracy: 0.8600\n",
      "Epoch 35/50\n",
      "67/67 [==============================] - ETA: 0s - loss: 0.0950 - categorical_accuracy: 0.9774\n",
      "Epoch 00035: saving model to GR_RNN_2021-09-0719_28_52.701378/model-00035-0.09501-0.97738-0.52082-0.81000.h5\n",
      "67/67 [==============================] - 68s 1s/step - loss: 0.0950 - categorical_accuracy: 0.9774 - val_loss: 0.5208 - val_categorical_accuracy: 0.8100\n",
      "Epoch 36/50\n",
      "67/67 [==============================] - ETA: 0s - loss: 0.0623 - categorical_accuracy: 0.9864\n",
      "Epoch 00036: saving model to GR_RNN_2021-09-0719_28_52.701378/model-00036-0.06233-0.98643-0.27693-0.87000.h5\n",
      "67/67 [==============================] - 68s 1s/step - loss: 0.0623 - categorical_accuracy: 0.9864 - val_loss: 0.2769 - val_categorical_accuracy: 0.8700\n",
      "Epoch 37/50\n",
      "67/67 [==============================] - ETA: 0s - loss: 0.0683 - categorical_accuracy: 0.9879\n",
      "Epoch 00037: saving model to GR_RNN_2021-09-0719_28_52.701378/model-00037-0.06832-0.98793-0.34732-0.87000.h5\n",
      "67/67 [==============================] - 68s 1s/step - loss: 0.0683 - categorical_accuracy: 0.9879 - val_loss: 0.3473 - val_categorical_accuracy: 0.8700\n",
      "Epoch 38/50\n",
      "67/67 [==============================] - ETA: 0s - loss: 0.0557 - categorical_accuracy: 0.9879\n",
      "Epoch 00038: saving model to GR_RNN_2021-09-0719_28_52.701378/model-00038-0.05572-0.98793-0.34303-0.87000.h5\n",
      "67/67 [==============================] - 69s 1s/step - loss: 0.0557 - categorical_accuracy: 0.9879 - val_loss: 0.3430 - val_categorical_accuracy: 0.8700\n",
      "Epoch 39/50\n",
      "67/67 [==============================] - ETA: 0s - loss: 0.0778 - categorical_accuracy: 0.9819\n",
      "Epoch 00039: saving model to GR_RNN_2021-09-0719_28_52.701378/model-00039-0.07779-0.98190-0.60250-0.84000.h5\n",
      "67/67 [==============================] - 68s 1s/step - loss: 0.0778 - categorical_accuracy: 0.9819 - val_loss: 0.6025 - val_categorical_accuracy: 0.8400\n",
      "Epoch 40/50\n",
      "67/67 [==============================] - ETA: 0s - loss: 0.0453 - categorical_accuracy: 0.9955\n",
      "Epoch 00040: saving model to GR_RNN_2021-09-0719_28_52.701378/model-00040-0.04533-0.99548-0.28707-0.90000.h5\n",
      "67/67 [==============================] - 69s 1s/step - loss: 0.0453 - categorical_accuracy: 0.9955 - val_loss: 0.2871 - val_categorical_accuracy: 0.9000\n",
      "Epoch 41/50\n",
      "67/67 [==============================] - ETA: 0s - loss: 0.0458 - categorical_accuracy: 0.9910\n",
      "Epoch 00041: saving model to GR_RNN_2021-09-0719_28_52.701378/model-00041-0.04578-0.99095-0.35366-0.90000.h5\n",
      "67/67 [==============================] - 68s 1s/step - loss: 0.0458 - categorical_accuracy: 0.9910 - val_loss: 0.3537 - val_categorical_accuracy: 0.9000\n",
      "Epoch 42/50\n",
      "67/67 [==============================] - ETA: 0s - loss: 0.0451 - categorical_accuracy: 0.9894\n",
      "Epoch 00042: saving model to GR_RNN_2021-09-0719_28_52.701378/model-00042-0.04508-0.98944-0.23557-0.91000.h5\n",
      "67/67 [==============================] - 69s 1s/step - loss: 0.0451 - categorical_accuracy: 0.9894 - val_loss: 0.2356 - val_categorical_accuracy: 0.9100\n",
      "Epoch 43/50\n",
      "67/67 [==============================] - ETA: 0s - loss: 0.0473 - categorical_accuracy: 0.9955\n",
      "Epoch 00043: saving model to GR_RNN_2021-09-0719_28_52.701378/model-00043-0.04725-0.99548-0.30648-0.87000.h5\n",
      "67/67 [==============================] - 68s 1s/step - loss: 0.0473 - categorical_accuracy: 0.9955 - val_loss: 0.3065 - val_categorical_accuracy: 0.8700\n",
      "Epoch 44/50\n",
      "67/67 [==============================] - ETA: 0s - loss: 0.0370 - categorical_accuracy: 0.9940\n",
      "Epoch 00044: saving model to GR_RNN_2021-09-0719_28_52.701378/model-00044-0.03704-0.99397-0.39996-0.85000.h5\n",
      "67/67 [==============================] - 68s 1s/step - loss: 0.0370 - categorical_accuracy: 0.9940 - val_loss: 0.4000 - val_categorical_accuracy: 0.8500\n",
      "Epoch 45/50\n",
      "67/67 [==============================] - ETA: 0s - loss: 0.0524 - categorical_accuracy: 0.9910\n",
      "Epoch 00045: saving model to GR_RNN_2021-09-0719_28_52.701378/model-00045-0.05238-0.99095-0.49013-0.80000.h5\n",
      "67/67 [==============================] - 68s 1s/step - loss: 0.0524 - categorical_accuracy: 0.9910 - val_loss: 0.4901 - val_categorical_accuracy: 0.8000\n",
      "Epoch 46/50\n",
      "67/67 [==============================] - ETA: 0s - loss: 0.0687 - categorical_accuracy: 0.9804\n",
      "Epoch 00046: saving model to GR_RNN_2021-09-0719_28_52.701378/model-00046-0.06866-0.98039-0.26339-0.91000.h5\n",
      "67/67 [==============================] - 68s 1s/step - loss: 0.0687 - categorical_accuracy: 0.9804 - val_loss: 0.2634 - val_categorical_accuracy: 0.9100\n",
      "Epoch 47/50\n",
      "67/67 [==============================] - ETA: 0s - loss: 0.0383 - categorical_accuracy: 0.9970\n",
      "Epoch 00047: saving model to GR_RNN_2021-09-0719_28_52.701378/model-00047-0.03834-0.99698-0.26644-0.89000.h5\n",
      "67/67 [==============================] - 68s 1s/step - loss: 0.0383 - categorical_accuracy: 0.9970 - val_loss: 0.2664 - val_categorical_accuracy: 0.8900\n",
      "Epoch 48/50\n",
      "67/67 [==============================] - ETA: 0s - loss: 0.0432 - categorical_accuracy: 0.9925\n",
      "Epoch 00048: saving model to GR_RNN_2021-09-0719_28_52.701378/model-00048-0.04315-0.99246-0.26215-0.91000.h5\n",
      "67/67 [==============================] - 68s 1s/step - loss: 0.0432 - categorical_accuracy: 0.9925 - val_loss: 0.2621 - val_categorical_accuracy: 0.9100\n",
      "Epoch 49/50\n",
      "67/67 [==============================] - ETA: 0s - loss: 0.0330 - categorical_accuracy: 0.9955\n",
      "Epoch 00049: saving model to GR_RNN_2021-09-0719_28_52.701378/model-00049-0.03305-0.99548-0.19803-0.92000.h5\n",
      "67/67 [==============================] - 69s 1s/step - loss: 0.0330 - categorical_accuracy: 0.9955 - val_loss: 0.1980 - val_categorical_accuracy: 0.9200\n",
      "Epoch 50/50\n",
      "67/67 [==============================] - ETA: 0s - loss: 0.0331 - categorical_accuracy: 0.9955\n",
      "Epoch 00050: saving model to GR_RNN_2021-09-0719_28_52.701378/model-00050-0.03307-0.99548-0.27694-0.88000.h5\n",
      "67/67 [==============================] - 69s 1s/step - loss: 0.0331 - categorical_accuracy: 0.9955 - val_loss: 0.2769 - val_categorical_accuracy: 0.8800\n"
     ]
    }
   ],
   "source": [
    "callbacks_list = call_back('GR_RNN')\n",
    "steps_per_epoch, validation_steps = cal_steps()\n",
    "history = model1.fit(train_generator, \n",
    "                               steps_per_epoch=steps_per_epoch, epochs=num_epochs, verbose=1, \n",
    "                    callbacks=callbacks_list, validation_data=val_generator, \n",
    "                    validation_steps=validation_steps,\n",
    "                    class_weight=None,\n",
    "                    workers=1,\n",
    "                    initial_epoch=0)"
   ]
  },
  {
   "cell_type": "markdown",
   "metadata": {},
   "source": [
    "### Plotting"
   ]
  },
  {
   "cell_type": "code",
   "execution_count": 17,
   "metadata": {
    "scrolled": true
   },
   "outputs": [
    {
     "data": {
      "image/png": "[encoded data removed]",
      "text/plain": [
       "<Figure size 1080x288 with 2 Axes>"
      ]
     },
     "metadata": {
      "needs_background": "light"
     },
     "output_type": "display_data"
    }
   ],
   "source": [
    "plot(history)"
   ]
  },
  {
   "cell_type": "markdown",
   "metadata": {},
   "source": [
    "## CNN Model 5"
   ]
  },
  {
   "cell_type": "markdown",
   "metadata": {},
   "source": [
    "### Model Params"
   ]
  },
  {
   "cell_type": "code",
   "execution_count": 13,
   "metadata": {},
   "outputs": [],
   "source": [
    "batch_size = 32\n",
    "num_epochs = 20\n",
    "img_height = 120\n",
    "img_width = 120\n",
    "frames = 16"
   ]
  },
  {
   "cell_type": "markdown",
   "metadata": {},
   "source": [
    "### Model CNN"
   ]
  },
  {
   "cell_type": "code",
   "execution_count": 14,
   "metadata": {},
   "outputs": [
    {
     "name": "stdout",
     "output_type": "stream",
     "text": [
      "Model: \"sequential_1\"\n",
      "_________________________________________________________________\n",
      "Layer (type)                 Output Shape              Param #   \n",
      "=================================================================\n",
      "conv3d (Conv3D)              (None, 16, 120, 120, 16)  1312      \n",
      "_________________________________________________________________\n",
      "activation_5 (Activation)    (None, 16, 120, 120, 16)  0         \n",
      "_________________________________________________________________\n",
      "batch_normalization_4 (Batch (None, 16, 120, 120, 16)  64        \n",
      "_________________________________________________________________\n",
      "max_pooling3d (MaxPooling3D) (None, 8, 60, 60, 16)     0         \n",
      "_________________________________________________________________\n",
      "conv3d_1 (Conv3D)            (None, 8, 60, 60, 32)     13856     \n",
      "_________________________________________________________________\n",
      "activation_6 (Activation)    (None, 8, 60, 60, 32)     0         \n",
      "_________________________________________________________________\n",
      "batch_normalization_5 (Batch (None, 8, 60, 60, 32)     128       \n",
      "_________________________________________________________________\n",
      "max_pooling3d_1 (MaxPooling3 (None, 4, 30, 30, 32)     0         \n",
      "_________________________________________________________________\n",
      "conv3d_2 (Conv3D)            (None, 4, 30, 30, 64)     55360     \n",
      "_________________________________________________________________\n",
      "activation_7 (Activation)    (None, 4, 30, 30, 64)     0         \n",
      "_________________________________________________________________\n",
      "batch_normalization_6 (Batch (None, 4, 30, 30, 64)     256       \n",
      "_________________________________________________________________\n",
      "max_pooling3d_2 (MaxPooling3 (None, 2, 15, 15, 64)     0         \n",
      "_________________________________________________________________\n",
      "dropout_1 (Dropout)          (None, 2, 15, 15, 64)     0         \n",
      "_________________________________________________________________\n",
      "flatten_2 (Flatten)          (None, 28800)             0         \n",
      "_________________________________________________________________\n",
      "dense_3 (Dense)              (None, 128)               3686528   \n",
      "_________________________________________________________________\n",
      "activation_8 (Activation)    (None, 128)               0         \n",
      "_________________________________________________________________\n",
      "batch_normalization_7 (Batch (None, 128)               512       \n",
      "_________________________________________________________________\n",
      "dense_4 (Dense)              (None, 256)               33024     \n",
      "_________________________________________________________________\n",
      "activation_9 (Activation)    (None, 256)               0         \n",
      "_________________________________________________________________\n",
      "batch_normalization_8 (Batch (None, 256)               1024      \n",
      "_________________________________________________________________\n",
      "dense_5 (Dense)              (None, 5)                 1285      \n",
      "_________________________________________________________________\n",
      "activation_10 (Activation)   (None, 5)                 0         \n",
      "=================================================================\n",
      "Total params: 3,793,349\n",
      "Trainable params: 3,792,357\n",
      "Non-trainable params: 992\n",
      "_________________________________________________________________\n",
      "None\n"
     ]
    }
   ],
   "source": [
    "model = Sequential()\n",
    "model.add(Conv3D(16, (3, 3, 3), padding='same', input_shape=(frames, img_height,img_width, 3)))\n",
    "model.add(Activation('relu'))\n",
    "model.add(BatchNormalization())\n",
    "model.add(MaxPooling3D(pool_size=(2, 2, 2), padding = 'same'))\n",
    "\n",
    "model.add(Conv3D(32, (3, 3, 3), padding='same'))\n",
    "model.add(Activation('relu'))\n",
    "model.add(BatchNormalization())\n",
    "model.add(MaxPooling3D(pool_size=(2, 2, 2)))\n",
    "    \n",
    "model.add(Conv3D(64, (3, 3, 3), padding='same'))\n",
    "model.add(Activation('relu'))\n",
    "model.add(BatchNormalization())\n",
    "model.add(MaxPooling3D(pool_size=(2, 2, 2)))\n",
    "model.add(Dropout(0.20))\n",
    "    \n",
    "model.add(Flatten())\n",
    "model.add(Dense(128))\n",
    "model.add(Activation('relu'))\n",
    "model.add(BatchNormalization())\n",
    "\n",
    "\n",
    "model.add(Dense(256))\n",
    "model.add(Activation('relu'))\n",
    "model.add(BatchNormalization())\n",
    "\n",
    "\n",
    "model.add(Dense(5))\n",
    "model.add(Activation('softmax'))\n",
    "optimiser = 'SGD'\n",
    "\n",
    "model.compile(optimizer=optimiser, loss='categorical_crossentropy', metrics=['categorical_accuracy'])\n",
    "print(model.summary())"
   ]
  },
  {
   "cell_type": "code",
   "execution_count": 15,
   "metadata": {},
   "outputs": [],
   "source": [
    "train_generator = generator(train_path, train_doc, batch_size,img_height, img_width,frames)\n",
    "val_generator = generator(val_path, val_doc, batch_size,img_height, img_width, frames)"
   ]
  },
  {
   "cell_type": "markdown",
   "metadata": {},
   "source": [
    "### Fit the model"
   ]
  },
  {
   "cell_type": "code",
   "execution_count": 16,
   "metadata": {
    "scrolled": true
   },
   "outputs": [
    {
     "name": "stdout",
     "output_type": "stream",
     "text": [
      "WARNING:tensorflow:`period` argument is deprecated. Please use `save_freq` to specify the frequency in number of batches seen.\n",
      "Epoch 1/20\n",
      "21/21 [==============================] - ETA: 0s - loss: 1.4461 - categorical_accuracy: 0.4465\n",
      "Epoch 00001: saving model to GR_CNN_2021-09-0812_59_28.376712/model-00001-1.44606-0.44646-1.59525-0.17000.h5\n",
      "21/21 [==============================] - 77s 4s/step - loss: 1.4461 - categorical_accuracy: 0.4465 - val_loss: 1.5952 - val_categorical_accuracy: 0.1700\n",
      "Epoch 2/20\n",
      "21/21 [==============================] - ETA: 0s - loss: 0.6616 - categorical_accuracy: 0.7406\n",
      "Epoch 00002: saving model to GR_CNN_2021-09-0812_59_28.376712/model-00002-0.66164-0.74057-1.78005-0.19000.h5\n",
      "21/21 [==============================] - 78s 4s/step - loss: 0.6616 - categorical_accuracy: 0.7406 - val_loss: 1.7801 - val_categorical_accuracy: 0.1900\n",
      "Epoch 3/20\n",
      "21/21 [==============================] - ETA: 0s - loss: 0.3722 - categorical_accuracy: 0.8884\n",
      "Epoch 00003: saving model to GR_CNN_2021-09-0812_59_28.376712/model-00003-0.37225-0.88839-2.33035-0.12000.h5\n",
      "21/21 [==============================] - 77s 4s/step - loss: 0.3722 - categorical_accuracy: 0.8884 - val_loss: 2.3304 - val_categorical_accuracy: 0.1200\n",
      "Epoch 4/20\n",
      "21/21 [==============================] - ETA: 0s - loss: 0.2166 - categorical_accuracy: 0.9472\n",
      "Epoch 00004: saving model to GR_CNN_2021-09-0812_59_28.376712/model-00004-0.21664-0.94721-2.64638-0.16000.h5\n",
      "21/21 [==============================] - 74s 4s/step - loss: 0.2166 - categorical_accuracy: 0.9472 - val_loss: 2.6464 - val_categorical_accuracy: 0.1600\n",
      "Epoch 5/20\n",
      "21/21 [==============================] - ETA: 0s - loss: 0.1173 - categorical_accuracy: 0.9864\n",
      "Epoch 00005: saving model to GR_CNN_2021-09-0812_59_28.376712/model-00005-0.11727-0.98643-2.96078-0.16000.h5\n",
      "21/21 [==============================] - 78s 4s/step - loss: 0.1173 - categorical_accuracy: 0.9864 - val_loss: 2.9608 - val_categorical_accuracy: 0.1600\n",
      "Epoch 6/20\n",
      "21/21 [==============================] - ETA: 0s - loss: 0.0782 - categorical_accuracy: 0.9864\n",
      "Epoch 00006: saving model to GR_CNN_2021-09-0812_59_28.376712/model-00006-0.07825-0.98643-3.12064-0.16000.h5\n",
      "21/21 [==============================] - 77s 4s/step - loss: 0.0782 - categorical_accuracy: 0.9864 - val_loss: 3.1206 - val_categorical_accuracy: 0.1600\n",
      "Epoch 7/20\n",
      "21/21 [==============================] - ETA: 0s - loss: 0.0553 - categorical_accuracy: 0.9955\n",
      "Epoch 00007: saving model to GR_CNN_2021-09-0812_59_28.376712/model-00007-0.05530-0.99548-3.36367-0.16000.h5\n",
      "21/21 [==============================] - 79s 4s/step - loss: 0.0553 - categorical_accuracy: 0.9955 - val_loss: 3.3637 - val_categorical_accuracy: 0.1600\n",
      "Epoch 8/20\n",
      "21/21 [==============================] - ETA: 0s - loss: 0.0531 - categorical_accuracy: 1.0000\n",
      "Epoch 00008: saving model to GR_CNN_2021-09-0812_59_28.376712/model-00008-0.05307-1.00000-3.52563-0.18000.h5\n",
      "21/21 [==============================] - 74s 4s/step - loss: 0.0531 - categorical_accuracy: 1.0000 - val_loss: 3.5256 - val_categorical_accuracy: 0.1800\n",
      "Epoch 9/20\n",
      "21/21 [==============================] - ETA: 0s - loss: 0.0501 - categorical_accuracy: 0.9985\n",
      "Epoch 00009: saving model to GR_CNN_2021-09-0812_59_28.376712/model-00009-0.05006-0.99849-3.67223-0.16000.h5\n",
      "21/21 [==============================] - 78s 4s/step - loss: 0.0501 - categorical_accuracy: 0.9985 - val_loss: 3.6722 - val_categorical_accuracy: 0.1600\n",
      "Epoch 10/20\n",
      "21/21 [==============================] - ETA: 0s - loss: 0.0406 - categorical_accuracy: 1.0000\n",
      "Epoch 00010: saving model to GR_CNN_2021-09-0812_59_28.376712/model-00010-0.04064-1.00000-3.97747-0.11000.h5\n",
      "21/21 [==============================] - 78s 4s/step - loss: 0.0406 - categorical_accuracy: 1.0000 - val_loss: 3.9775 - val_categorical_accuracy: 0.1100\n",
      "Epoch 11/20\n",
      "21/21 [==============================] - ETA: 0s - loss: 0.0454 - categorical_accuracy: 0.9985\n",
      "Epoch 00011: saving model to GR_CNN_2021-09-0812_59_28.376712/model-00011-0.04535-0.99849-4.07178-0.17000.h5\n",
      "21/21 [==============================] - 77s 4s/step - loss: 0.0454 - categorical_accuracy: 0.9985 - val_loss: 4.0718 - val_categorical_accuracy: 0.1700\n",
      "Epoch 12/20\n",
      "21/21 [==============================] - ETA: 0s - loss: 0.0390 - categorical_accuracy: 1.0000\n",
      "Epoch 00012: saving model to GR_CNN_2021-09-0812_59_28.376712/model-00012-0.03896-1.00000-3.87332-0.23000.h5\n",
      "21/21 [==============================] - 74s 4s/step - loss: 0.0390 - categorical_accuracy: 1.0000 - val_loss: 3.8733 - val_categorical_accuracy: 0.2300\n",
      "Epoch 13/20\n",
      "21/21 [==============================] - ETA: 0s - loss: 0.0411 - categorical_accuracy: 1.0000\n",
      "Epoch 00013: saving model to GR_CNN_2021-09-0812_59_28.376712/model-00013-0.04111-1.00000-3.83990-0.28000.h5\n",
      "21/21 [==============================] - 77s 4s/step - loss: 0.0411 - categorical_accuracy: 1.0000 - val_loss: 3.8399 - val_categorical_accuracy: 0.2800\n",
      "Epoch 14/20\n",
      "21/21 [==============================] - ETA: 0s - loss: 0.0348 - categorical_accuracy: 1.0000\n",
      "Epoch 00014: saving model to GR_CNN_2021-09-0812_59_28.376712/model-00014-0.03475-1.00000-3.96147-0.27000.h5\n",
      "21/21 [==============================] - 78s 4s/step - loss: 0.0348 - categorical_accuracy: 1.0000 - val_loss: 3.9615 - val_categorical_accuracy: 0.2700\n",
      "Epoch 15/20\n",
      "21/21 [==============================] - ETA: 0s - loss: 0.0442 - categorical_accuracy: 0.9985\n",
      "Epoch 00015: saving model to GR_CNN_2021-09-0812_59_28.376712/model-00015-0.04422-0.99849-3.70150-0.21000.h5\n",
      "21/21 [==============================] - 78s 4s/step - loss: 0.0442 - categorical_accuracy: 0.9985 - val_loss: 3.7015 - val_categorical_accuracy: 0.2100\n",
      "Epoch 16/20\n",
      "21/21 [==============================] - ETA: 0s - loss: 0.0356 - categorical_accuracy: 0.9985\n",
      "Epoch 00016: saving model to GR_CNN_2021-09-0812_59_28.376712/model-00016-0.03559-0.99849-3.20844-0.31000.h5\n",
      "21/21 [==============================] - 74s 4s/step - loss: 0.0356 - categorical_accuracy: 0.9985 - val_loss: 3.2084 - val_categorical_accuracy: 0.3100\n",
      "Epoch 17/20\n",
      "21/21 [==============================] - ETA: 0s - loss: 0.0389 - categorical_accuracy: 1.0000\n",
      "Epoch 00017: saving model to GR_CNN_2021-09-0812_59_28.376712/model-00017-0.03890-1.00000-2.86533-0.32000.h5\n",
      "21/21 [==============================] - 77s 4s/step - loss: 0.0389 - categorical_accuracy: 1.0000 - val_loss: 2.8653 - val_categorical_accuracy: 0.3200\n",
      "Epoch 18/20\n",
      "21/21 [==============================] - ETA: 0s - loss: 0.0381 - categorical_accuracy: 1.0000\n",
      "Epoch 00018: saving model to GR_CNN_2021-09-0812_59_28.376712/model-00018-0.03811-1.00000-2.60271-0.33000.h5\n",
      "21/21 [==============================] - 76s 4s/step - loss: 0.0381 - categorical_accuracy: 1.0000 - val_loss: 2.6027 - val_categorical_accuracy: 0.3300\n",
      "Epoch 19/20\n",
      "21/21 [==============================] - ETA: 0s - loss: 0.0344 - categorical_accuracy: 1.0000\n",
      "Epoch 00019: saving model to GR_CNN_2021-09-0812_59_28.376712/model-00019-0.03439-1.00000-1.92605-0.39000.h5\n",
      "21/21 [==============================] - 78s 4s/step - loss: 0.0344 - categorical_accuracy: 1.0000 - val_loss: 1.9260 - val_categorical_accuracy: 0.3900\n",
      "Epoch 20/20\n",
      "21/21 [==============================] - ETA: 0s - loss: 0.0345 - categorical_accuracy: 1.0000\n",
      "Epoch 00020: saving model to GR_CNN_2021-09-0812_59_28.376712/model-00020-0.03455-1.00000-1.88954-0.42000.h5\n",
      "21/21 [==============================] - 74s 4s/step - loss: 0.0345 - categorical_accuracy: 1.0000 - val_loss: 1.8895 - val_categorical_accuracy: 0.4200\n"
     ]
    }
   ],
   "source": [
    "callbacks_list = call_back('GR_CNN')\n",
    "steps_per_epoch, validation_steps = cal_steps()\n",
    "history = model.fit(train_generator, \n",
    "                               steps_per_epoch=steps_per_epoch, epochs=num_epochs, verbose=1, \n",
    "                    callbacks=callbacks_list, validation_data=val_generator, \n",
    "                    validation_steps=validation_steps,\n",
    "                    class_weight=None,\n",
    "                    workers=1,\n",
    "                    initial_epoch=0)"
   ]
  },
  {
   "cell_type": "markdown",
   "metadata": {},
   "source": [
    "### Plotting"
   ]
  },
  {
   "cell_type": "code",
   "execution_count": 17,
   "metadata": {},
   "outputs": [
    {
     "data": {
      "image/png": "[encoded data removed]",
      "text/plain": [
       "<Figure size 1080x288 with 2 Axes>"
      ]
     },
     "metadata": {
      "needs_background": "light"
     },
     "output_type": "display_data"
    }
   ],
   "source": [
    "plot(history)"
   ]
  },
  {
   "cell_type": "markdown",
   "metadata": {},
   "source": [
    "### CNN Model 6"
   ]
  },
  {
   "cell_type": "markdown",
   "metadata": {},
   "source": [
    "### Model Params"
   ]
  },
  {
   "cell_type": "code",
   "execution_count": 8,
   "metadata": {},
   "outputs": [],
   "source": [
    "batch_size = 32\n",
    "num_epochs = 20\n",
    "img_height = 120\n",
    "img_width = 120\n",
    "frames = 16"
   ]
  },
  {
   "cell_type": "markdown",
   "metadata": {},
   "source": [
    "### Model CNN"
   ]
  },
  {
   "cell_type": "code",
   "execution_count": 9,
   "metadata": {},
   "outputs": [
    {
     "name": "stdout",
     "output_type": "stream",
     "text": [
      "Model: \"sequential\"\n",
      "_________________________________________________________________\n",
      "Layer (type)                 Output Shape              Param #   \n",
      "=================================================================\n",
      "conv3d (Conv3D)              (None, 16, 120, 120, 16)  1312      \n",
      "_________________________________________________________________\n",
      "activation (Activation)      (None, 16, 120, 120, 16)  0         \n",
      "_________________________________________________________________\n",
      "batch_normalization (BatchNo (None, 16, 120, 120, 16)  64        \n",
      "_________________________________________________________________\n",
      "max_pooling3d (MaxPooling3D) (None, 8, 60, 60, 16)     0         \n",
      "_________________________________________________________________\n",
      "conv3d_1 (Conv3D)            (None, 8, 60, 60, 32)     13856     \n",
      "_________________________________________________________________\n",
      "activation_1 (Activation)    (None, 8, 60, 60, 32)     0         \n",
      "_________________________________________________________________\n",
      "batch_normalization_1 (Batch (None, 8, 60, 60, 32)     128       \n",
      "_________________________________________________________________\n",
      "max_pooling3d_1 (MaxPooling3 (None, 4, 30, 30, 32)     0         \n",
      "_________________________________________________________________\n",
      "conv3d_2 (Conv3D)            (None, 4, 30, 30, 64)     55360     \n",
      "_________________________________________________________________\n",
      "activation_2 (Activation)    (None, 4, 30, 30, 64)     0         \n",
      "_________________________________________________________________\n",
      "batch_normalization_2 (Batch (None, 4, 30, 30, 64)     256       \n",
      "_________________________________________________________________\n",
      "max_pooling3d_2 (MaxPooling3 (None, 2, 15, 15, 64)     0         \n",
      "_________________________________________________________________\n",
      "dropout (Dropout)            (None, 2, 15, 15, 64)     0         \n",
      "_________________________________________________________________\n",
      "conv3d_3 (Conv3D)            (None, 2, 15, 15, 128)    221312    \n",
      "_________________________________________________________________\n",
      "activation_3 (Activation)    (None, 2, 15, 15, 128)    0         \n",
      "_________________________________________________________________\n",
      "batch_normalization_3 (Batch (None, 2, 15, 15, 128)    512       \n",
      "_________________________________________________________________\n",
      "max_pooling3d_3 (MaxPooling3 (None, 1, 7, 7, 128)      0         \n",
      "_________________________________________________________________\n",
      "dropout_1 (Dropout)          (None, 1, 7, 7, 128)      0         \n",
      "_________________________________________________________________\n",
      "flatten (Flatten)            (None, 6272)              0         \n",
      "_________________________________________________________________\n",
      "dense (Dense)                (None, 128)               802944    \n",
      "_________________________________________________________________\n",
      "activation_4 (Activation)    (None, 128)               0         \n",
      "_________________________________________________________________\n",
      "batch_normalization_4 (Batch (None, 128)               512       \n",
      "_________________________________________________________________\n",
      "dense_1 (Dense)              (None, 256)               33024     \n",
      "_________________________________________________________________\n",
      "activation_5 (Activation)    (None, 256)               0         \n",
      "_________________________________________________________________\n",
      "batch_normalization_5 (Batch (None, 256)               1024      \n",
      "_________________________________________________________________\n",
      "dense_2 (Dense)              (None, 5)                 1285      \n",
      "_________________________________________________________________\n",
      "activation_6 (Activation)    (None, 5)                 0         \n",
      "=================================================================\n",
      "Total params: 1,131,589\n",
      "Trainable params: 1,130,341\n",
      "Non-trainable params: 1,248\n",
      "_________________________________________________________________\n",
      "None\n"
     ]
    }
   ],
   "source": [
    "model = Sequential()\n",
    "model.add(Conv3D(16, (3, 3, 3), padding='same', input_shape=(frames, img_height,img_width, 3)))\n",
    "model.add(Activation('relu'))\n",
    "model.add(BatchNormalization())\n",
    "model.add(MaxPooling3D(pool_size=(2, 2, 2), padding = 'same'))\n",
    "\n",
    "model.add(Conv3D(32, (3, 3, 3), padding='same'))\n",
    "model.add(Activation('relu'))\n",
    "model.add(BatchNormalization())\n",
    "model.add(MaxPooling3D(pool_size=(2, 2, 2)))\n",
    "    \n",
    "model.add(Conv3D(64, (3, 3, 3), padding='same'))\n",
    "model.add(Activation('relu'))\n",
    "model.add(BatchNormalization())\n",
    "model.add(MaxPooling3D(pool_size=(2, 2, 2)))\n",
    "model.add(Dropout(0.20))\n",
    "\n",
    "model.add(Conv3D(128, (3, 3, 3), padding='same'))    \n",
    "model.add(Activation('relu'))\n",
    "model.add(BatchNormalization())\n",
    "model.add(MaxPooling3D(pool_size=(2, 2, 2)))\n",
    "\n",
    "model.add(Dropout(0.5))\n",
    "    \n",
    "model.add(Flatten())\n",
    "model.add(Dense(128))\n",
    "model.add(Activation('relu'))\n",
    "model.add(BatchNormalization())\n",
    "\n",
    "\n",
    "model.add(Dense(256))\n",
    "model.add(Activation('relu'))\n",
    "model.add(BatchNormalization())\n",
    "\n",
    "\n",
    "model.add(Dense(5))\n",
    "model.add(Activation('softmax'))\n",
    "optimiser = 'SGD'\n",
    "\n",
    "model.compile(optimizer=optimiser, loss='categorical_crossentropy', metrics=['categorical_accuracy'])\n",
    "print(model.summary())"
   ]
  },
  {
   "cell_type": "code",
   "execution_count": 10,
   "metadata": {},
   "outputs": [],
   "source": [
    "train_generator = generator(train_path, train_doc, batch_size,img_height, img_width,frames)\n",
    "val_generator = generator(val_path, val_doc, batch_size,img_height, img_width, frames)"
   ]
  },
  {
   "cell_type": "markdown",
   "metadata": {},
   "source": [
    "### Fit the model"
   ]
  },
  {
   "cell_type": "code",
   "execution_count": 11,
   "metadata": {
    "scrolled": true
   },
   "outputs": [
    {
     "name": "stdout",
     "output_type": "stream",
     "text": [
      "WARNING:tensorflow:`period` argument is deprecated. Please use `save_freq` to specify the frequency in number of batches seen.\n",
      "Epoch 1/20\n",
      "21/21 [==============================] - ETA: 0s - loss: 1.7541 - categorical_accuracy: 0.3635\n",
      "Epoch 00001: saving model to GR_CNN_2021-09-0809_32_24.903899/model-00001-1.75410-0.36350-1.54930-0.25000.h5\n",
      "21/21 [==============================] - 75s 4s/step - loss: 1.7541 - categorical_accuracy: 0.3635 - val_loss: 1.5493 - val_categorical_accuracy: 0.2500\n",
      "Epoch 2/20\n",
      "21/21 [==============================] - ETA: 0s - loss: 1.2694 - categorical_accuracy: 0.5385\n",
      "Epoch 00002: saving model to GR_CNN_2021-09-0809_32_24.903899/model-00002-1.26935-0.53846-1.57783-0.33000.h5\n",
      "21/21 [==============================] - 78s 4s/step - loss: 1.2694 - categorical_accuracy: 0.5385 - val_loss: 1.5778 - val_categorical_accuracy: 0.3300\n",
      "Epoch 3/20\n",
      "21/21 [==============================] - ETA: 0s - loss: 1.0883 - categorical_accuracy: 0.5716\n",
      "Epoch 00003: saving model to GR_CNN_2021-09-0809_32_24.903899/model-00003-1.08826-0.57164-1.93243-0.25000.h5\n",
      "21/21 [==============================] - 77s 4s/step - loss: 1.0883 - categorical_accuracy: 0.5716 - val_loss: 1.9324 - val_categorical_accuracy: 0.2500\n",
      "Epoch 4/20\n",
      "21/21 [==============================] - ETA: 0s - loss: 0.9423 - categorical_accuracy: 0.6290\n",
      "Epoch 00004: saving model to GR_CNN_2021-09-0809_32_24.903899/model-00004-0.94231-0.62896-2.26181-0.22000.h5\n",
      "21/21 [==============================] - 74s 4s/step - loss: 0.9423 - categorical_accuracy: 0.6290 - val_loss: 2.2618 - val_categorical_accuracy: 0.2200\n",
      "Epoch 5/20\n",
      "21/21 [==============================] - ETA: 0s - loss: 0.8595 - categorical_accuracy: 0.6621\n",
      "Epoch 00005: saving model to GR_CNN_2021-09-0809_32_24.903899/model-00005-0.85950-0.66214-2.56399-0.23000.h5\n",
      "21/21 [==============================] - 76s 4s/step - loss: 0.8595 - categorical_accuracy: 0.6621 - val_loss: 2.5640 - val_categorical_accuracy: 0.2300\n",
      "Epoch 6/20\n",
      "21/21 [==============================] - ETA: 0s - loss: 0.7083 - categorical_accuracy: 0.7059\n",
      "Epoch 00006: saving model to GR_CNN_2021-09-0809_32_24.903899/model-00006-0.70831-0.70588-3.43964-0.25000.h5\n",
      "21/21 [==============================] - 77s 4s/step - loss: 0.7083 - categorical_accuracy: 0.7059 - val_loss: 3.4396 - val_categorical_accuracy: 0.2500\n",
      "Epoch 7/20\n",
      "21/21 [==============================] - ETA: 0s - loss: 0.5569 - categorical_accuracy: 0.7979\n",
      "Epoch 00007: saving model to GR_CNN_2021-09-0809_32_24.903899/model-00007-0.55693-0.79789-3.91373-0.19000.h5\n",
      "21/21 [==============================] - 77s 4s/step - loss: 0.5569 - categorical_accuracy: 0.7979 - val_loss: 3.9137 - val_categorical_accuracy: 0.1900\n",
      "Epoch 8/20\n",
      "21/21 [==============================] - ETA: 0s - loss: 0.5494 - categorical_accuracy: 0.7873\n",
      "Epoch 00008: saving model to GR_CNN_2021-09-0809_32_24.903899/model-00008-0.54945-0.78733-3.95398-0.21000.h5\n",
      "21/21 [==============================] - 74s 4s/step - loss: 0.5494 - categorical_accuracy: 0.7873 - val_loss: 3.9540 - val_categorical_accuracy: 0.2100\n",
      "Epoch 9/20\n",
      "21/21 [==============================] - ETA: 0s - loss: 0.5198 - categorical_accuracy: 0.8145\n",
      "Epoch 00009: saving model to GR_CNN_2021-09-0809_32_24.903899/model-00009-0.51983-0.81448-3.86860-0.22000.h5\n",
      "21/21 [==============================] - 77s 4s/step - loss: 0.5198 - categorical_accuracy: 0.8145 - val_loss: 3.8686 - val_categorical_accuracy: 0.2200\n",
      "Epoch 10/20\n",
      "21/21 [==============================] - ETA: 0s - loss: 0.5348 - categorical_accuracy: 0.7873\n",
      "Epoch 00010: saving model to GR_CNN_2021-09-0809_32_24.903899/model-00010-0.53478-0.78733-3.94222-0.23000.h5\n",
      "21/21 [==============================] - 77s 4s/step - loss: 0.5348 - categorical_accuracy: 0.7873 - val_loss: 3.9422 - val_categorical_accuracy: 0.2300\n",
      "Epoch 11/20\n",
      "21/21 [==============================] - ETA: 0s - loss: 0.4950 - categorical_accuracy: 0.8145\n",
      "Epoch 00011: saving model to GR_CNN_2021-09-0809_32_24.903899/model-00011-0.49497-0.81448-3.90174-0.21000.h5\n",
      "21/21 [==============================] - 77s 4s/step - loss: 0.4950 - categorical_accuracy: 0.8145 - val_loss: 3.9017 - val_categorical_accuracy: 0.2100\n",
      "Epoch 12/20\n",
      "21/21 [==============================] - ETA: 0s - loss: 0.4954 - categorical_accuracy: 0.8084\n",
      "Epoch 00012: saving model to GR_CNN_2021-09-0809_32_24.903899/model-00012-0.49540-0.80845-3.68075-0.23000.h5\n",
      "21/21 [==============================] - 74s 4s/step - loss: 0.4954 - categorical_accuracy: 0.8084 - val_loss: 3.6807 - val_categorical_accuracy: 0.2300\n",
      "Epoch 13/20\n",
      "21/21 [==============================] - ETA: 0s - loss: 0.4561 - categorical_accuracy: 0.8431\n",
      "Epoch 00013: saving model to GR_CNN_2021-09-0809_32_24.903899/model-00013-0.45609-0.84314-3.37321-0.25000.h5\n",
      "21/21 [==============================] - 76s 4s/step - loss: 0.4561 - categorical_accuracy: 0.8431 - val_loss: 3.3732 - val_categorical_accuracy: 0.2500\n",
      "Epoch 14/20\n",
      "21/21 [==============================] - ETA: 0s - loss: 0.4756 - categorical_accuracy: 0.8281\n",
      "Epoch 00014: saving model to GR_CNN_2021-09-0809_32_24.903899/model-00014-0.47555-0.82805-3.43112-0.23000.h5\n",
      "21/21 [==============================] - 77s 4s/step - loss: 0.4756 - categorical_accuracy: 0.8281 - val_loss: 3.4311 - val_categorical_accuracy: 0.2300\n",
      "Epoch 15/20\n",
      "21/21 [==============================] - ETA: 0s - loss: 0.4717 - categorical_accuracy: 0.8326\n",
      "Epoch 00015: saving model to GR_CNN_2021-09-0809_32_24.903899/model-00015-0.47167-0.83258-3.07950-0.25000.h5\n",
      "21/21 [==============================] - 78s 4s/step - loss: 0.4717 - categorical_accuracy: 0.8326 - val_loss: 3.0795 - val_categorical_accuracy: 0.2500\n",
      "Epoch 16/20\n",
      "21/21 [==============================] - ETA: 0s - loss: 0.4478 - categorical_accuracy: 0.8311\n",
      "Epoch 00016: saving model to GR_CNN_2021-09-0809_32_24.903899/model-00016-0.44784-0.83107-3.03716-0.28000.h5\n",
      "21/21 [==============================] - 74s 4s/step - loss: 0.4478 - categorical_accuracy: 0.8311 - val_loss: 3.0372 - val_categorical_accuracy: 0.2800\n",
      "Epoch 17/20\n",
      "21/21 [==============================] - ETA: 0s - loss: 0.4194 - categorical_accuracy: 0.8507\n",
      "Epoch 00017: saving model to GR_CNN_2021-09-0809_32_24.903899/model-00017-0.41939-0.85068-2.79573-0.28000.h5\n",
      "21/21 [==============================] - 77s 4s/step - loss: 0.4194 - categorical_accuracy: 0.8507 - val_loss: 2.7957 - val_categorical_accuracy: 0.2800\n",
      "Epoch 18/20\n",
      "21/21 [==============================] - ETA: 0s - loss: 0.4423 - categorical_accuracy: 0.8341\n",
      "Epoch 00018: saving model to GR_CNN_2021-09-0809_32_24.903899/model-00018-0.44232-0.83409-2.70298-0.29000.h5\n",
      "21/21 [==============================] - 77s 4s/step - loss: 0.4423 - categorical_accuracy: 0.8341 - val_loss: 2.7030 - val_categorical_accuracy: 0.2900\n",
      "Epoch 19/20\n",
      "21/21 [==============================] - ETA: 0s - loss: 0.4167 - categorical_accuracy: 0.8401\n",
      "Epoch 00019: saving model to GR_CNN_2021-09-0809_32_24.903899/model-00019-0.41673-0.84012-2.52163-0.28000.h5\n",
      "21/21 [==============================] - 77s 4s/step - loss: 0.4167 - categorical_accuracy: 0.8401 - val_loss: 2.5216 - val_categorical_accuracy: 0.2800\n",
      "Epoch 20/20\n",
      "21/21 [==============================] - ETA: 0s - loss: 0.4317 - categorical_accuracy: 0.8416\n",
      "Epoch 00020: saving model to GR_CNN_2021-09-0809_32_24.903899/model-00020-0.43170-0.84163-2.22899-0.29000.h5\n",
      "21/21 [==============================] - 74s 4s/step - loss: 0.4317 - categorical_accuracy: 0.8416 - val_loss: 2.2290 - val_categorical_accuracy: 0.2900\n"
     ]
    }
   ],
   "source": [
    "callbacks_list = call_back('GR_CNN')\n",
    "steps_per_epoch, validation_steps = cal_steps()\n",
    "history = model.fit(train_generator, \n",
    "                               steps_per_epoch=steps_per_epoch, epochs=num_epochs, verbose=1, \n",
    "                    callbacks=callbacks_list, validation_data=val_generator, \n",
    "                    validation_steps=validation_steps,\n",
    "                    class_weight=None,\n",
    "                    workers=1,\n",
    "                    initial_epoch=0)"
   ]
  },
  {
   "cell_type": "markdown",
   "metadata": {},
   "source": [
    "### Plotting"
   ]
  },
  {
   "cell_type": "code",
   "execution_count": 12,
   "metadata": {},
   "outputs": [
    {
     "data": {
      "image/png": "[encoded data removed]",
      "text/plain": [
       "<Figure size 1080x288 with 2 Axes>"
      ]
     },
     "metadata": {
      "needs_background": "light"
     },
     "output_type": "display_data"
    }
   ],
   "source": [
    "plot(history)"
   ]
  },
  {
   "cell_type": "markdown",
   "metadata": {},
   "source": [
    "## CNN Model 7"
   ]
  },
  {
   "cell_type": "markdown",
   "metadata": {},
   "source": [
    "### Model Params"
   ]
  },
  {
   "cell_type": "code",
   "execution_count": 8,
   "metadata": {},
   "outputs": [],
   "source": [
    "batch_size = 10\n",
    "num_epochs = 25\n",
    "img_height = 120\n",
    "img_width = 120\n",
    "frames = 15"
   ]
  },
  {
   "cell_type": "markdown",
   "metadata": {},
   "source": [
    "### Model CNN"
   ]
  },
  {
   "cell_type": "code",
   "execution_count": 9,
   "metadata": {},
   "outputs": [
    {
     "name": "stdout",
     "output_type": "stream",
     "text": [
      "Model: \"sequential\"\n",
      "_________________________________________________________________\n",
      "Layer (type)                 Output Shape              Param #   \n",
      "=================================================================\n",
      "conv3d (Conv3D)              (None, 15, 120, 120, 128) 10496     \n",
      "_________________________________________________________________\n",
      "activation (Activation)      (None, 15, 120, 120, 128) 0         \n",
      "_________________________________________________________________\n",
      "batch_normalization (BatchNo (None, 15, 120, 120, 128) 512       \n",
      "_________________________________________________________________\n",
      "max_pooling3d (MaxPooling3D) (None, 8, 60, 60, 128)    0         \n",
      "_________________________________________________________________\n",
      "conv3d_1 (Conv3D)            (None, 8, 60, 60, 256)    884992    \n",
      "_________________________________________________________________\n",
      "activation_1 (Activation)    (None, 8, 60, 60, 256)    0         \n",
      "_________________________________________________________________\n",
      "batch_normalization_1 (Batch (None, 8, 60, 60, 256)    1024      \n",
      "_________________________________________________________________\n",
      "max_pooling3d_1 (MaxPooling3 (None, 4, 30, 30, 256)    0         \n",
      "_________________________________________________________________\n",
      "conv3d_2 (Conv3D)            (None, 4, 30, 30, 256)    1769728   \n",
      "_________________________________________________________________\n",
      "activation_2 (Activation)    (None, 4, 30, 30, 256)    0         \n",
      "_________________________________________________________________\n",
      "batch_normalization_2 (Batch (None, 4, 30, 30, 256)    1024      \n",
      "_________________________________________________________________\n",
      "max_pooling3d_2 (MaxPooling3 (None, 2, 15, 15, 256)    0         \n",
      "_________________________________________________________________\n",
      "dropout (Dropout)            (None, 2, 15, 15, 256)    0         \n",
      "_________________________________________________________________\n",
      "conv3d_3 (Conv3D)            (None, 2, 15, 15, 512)    3539456   \n",
      "_________________________________________________________________\n",
      "activation_3 (Activation)    (None, 2, 15, 15, 512)    0         \n",
      "_________________________________________________________________\n",
      "batch_normalization_3 (Batch (None, 2, 15, 15, 512)    2048      \n",
      "_________________________________________________________________\n",
      "max_pooling3d_3 (MaxPooling3 (None, 1, 7, 7, 512)      0         \n",
      "_________________________________________________________________\n",
      "dropout_1 (Dropout)          (None, 1, 7, 7, 512)      0         \n",
      "_________________________________________________________________\n",
      "flatten (Flatten)            (None, 25088)             0         \n",
      "_________________________________________________________________\n",
      "dense (Dense)                (None, 128)               3211392   \n",
      "_________________________________________________________________\n",
      "activation_4 (Activation)    (None, 128)               0         \n",
      "_________________________________________________________________\n",
      "batch_normalization_4 (Batch (None, 128)               512       \n",
      "_________________________________________________________________\n",
      "dense_1 (Dense)              (None, 256)               33024     \n",
      "_________________________________________________________________\n",
      "activation_5 (Activation)    (None, 256)               0         \n",
      "_________________________________________________________________\n",
      "batch_normalization_5 (Batch (None, 256)               1024      \n",
      "_________________________________________________________________\n",
      "dense_2 (Dense)              (None, 5)                 1285      \n",
      "_________________________________________________________________\n",
      "activation_6 (Activation)    (None, 5)                 0         \n",
      "=================================================================\n",
      "Total params: 9,456,517\n",
      "Trainable params: 9,453,445\n",
      "Non-trainable params: 3,072\n",
      "_________________________________________________________________\n",
      "None\n"
     ]
    }
   ],
   "source": [
    "model = Sequential()\n",
    "model.add(Conv3D(128, (3, 3, 3), padding='same', input_shape=(frames, img_height,img_width, 3)))\n",
    "model.add(Activation('relu'))\n",
    "model.add(BatchNormalization())\n",
    "model.add(MaxPooling3D(pool_size=(2, 2, 2), padding = 'same'))\n",
    "\n",
    "model.add(Conv3D(256, (3, 3, 3), padding='same'))\n",
    "model.add(Activation('relu'))\n",
    "model.add(BatchNormalization())\n",
    "model.add(MaxPooling3D(pool_size=(2, 2, 2)))\n",
    "    \n",
    "model.add(Conv3D(256, (3, 3, 3), padding='same'))\n",
    "model.add(Activation('relu'))\n",
    "model.add(BatchNormalization())\n",
    "model.add(MaxPooling3D(pool_size=(2, 2, 2)))\n",
    "model.add(Dropout(0.20))\n",
    "\n",
    "model.add(Conv3D(512, (3, 3, 3), padding='same'))    \n",
    "model.add(Activation('relu'))\n",
    "model.add(BatchNormalization())\n",
    "model.add(MaxPooling3D(pool_size=(2, 2, 2)))\n",
    "\n",
    "model.add(Dropout(0.5))\n",
    "    \n",
    "model.add(Flatten())\n",
    "model.add(Dense(128))\n",
    "model.add(Activation('relu'))\n",
    "model.add(BatchNormalization())\n",
    "\n",
    "\n",
    "model.add(Dense(256))\n",
    "model.add(Activation('relu'))\n",
    "model.add(BatchNormalization())\n",
    "\n",
    "\n",
    "model.add(Dense(5))\n",
    "model.add(Activation('softmax'))\n",
    "optimiser = 'SGD'\n",
    "\n",
    "model.compile(optimizer=optimiser, loss='categorical_crossentropy', metrics=['categorical_accuracy'])\n",
    "print(model.summary())"
   ]
  },
  {
   "cell_type": "code",
   "execution_count": 10,
   "metadata": {},
   "outputs": [],
   "source": [
    "train_generator = generator(train_path, train_doc, batch_size,img_height, img_width,frames)\n",
    "val_generator = generator(val_path, val_doc, batch_size,img_height, img_width, frames)"
   ]
  },
  {
   "cell_type": "markdown",
   "metadata": {},
   "source": [
    "### Fit the model"
   ]
  },
  {
   "cell_type": "code",
   "execution_count": 11,
   "metadata": {},
   "outputs": [
    {
     "name": "stdout",
     "output_type": "stream",
     "text": [
      "WARNING:tensorflow:`period` argument is deprecated. Please use `save_freq` to specify the frequency in number of batches seen.\n",
      "Epoch 1/25\n",
      "67/67 [==============================] - ETA: 0s - loss: 1.6156 - categorical_accuracy: 0.3831\n",
      "Epoch 00001: saving model to GR_CNN_2021-09-0810_09_42.223859/model-00001-1.61561-0.38311-1.92115-0.30000.h5\n",
      "67/67 [==============================] - 73s 1s/step - loss: 1.6156 - categorical_accuracy: 0.3831 - val_loss: 1.9212 - val_categorical_accuracy: 0.3000\n",
      "Epoch 2/25\n",
      "67/67 [==============================] - ETA: 0s - loss: 1.2404 - categorical_accuracy: 0.5053\n",
      "Epoch 00002: saving model to GR_CNN_2021-09-0810_09_42.223859/model-00002-1.24037-0.50528-1.93067-0.20000.h5\n",
      "67/67 [==============================] - 72s 1s/step - loss: 1.2404 - categorical_accuracy: 0.5053 - val_loss: 1.9307 - val_categorical_accuracy: 0.2000\n",
      "Epoch 3/25\n",
      "67/67 [==============================] - ETA: 0s - loss: 0.9975 - categorical_accuracy: 0.5913\n",
      "Epoch 00003: saving model to GR_CNN_2021-09-0810_09_42.223859/model-00003-0.99747-0.59125-2.77545-0.20000.h5\n",
      "67/67 [==============================] - 72s 1s/step - loss: 0.9975 - categorical_accuracy: 0.5913 - val_loss: 2.7754 - val_categorical_accuracy: 0.2000\n",
      "Epoch 4/25\n",
      "67/67 [==============================] - ETA: 0s - loss: 0.8941 - categorical_accuracy: 0.6531\n",
      "Epoch 00004: saving model to GR_CNN_2021-09-0810_09_42.223859/model-00004-0.89408-0.65309-2.53730-0.26000.h5\n",
      "67/67 [==============================] - 72s 1s/step - loss: 0.8941 - categorical_accuracy: 0.6531 - val_loss: 2.5373 - val_categorical_accuracy: 0.2600\n",
      "Epoch 5/25\n",
      "67/67 [==============================] - ETA: 0s - loss: 0.7777 - categorical_accuracy: 0.6878\n",
      "Epoch 00005: saving model to GR_CNN_2021-09-0810_09_42.223859/model-00005-0.77770-0.68778-2.65233-0.25000.h5\n",
      "67/67 [==============================] - 72s 1s/step - loss: 0.7777 - categorical_accuracy: 0.6878 - val_loss: 2.6523 - val_categorical_accuracy: 0.2500\n",
      "Epoch 6/25\n",
      "67/67 [==============================] - ETA: 0s - loss: 0.7761 - categorical_accuracy: 0.7089\n",
      "Epoch 00006: saving model to GR_CNN_2021-09-0810_09_42.223859/model-00006-0.77607-0.70890-1.86251-0.28000.h5\n",
      "67/67 [==============================] - 72s 1s/step - loss: 0.7761 - categorical_accuracy: 0.7089 - val_loss: 1.8625 - val_categorical_accuracy: 0.2800\n",
      "Epoch 7/25\n",
      "67/67 [==============================] - ETA: 0s - loss: 0.6715 - categorical_accuracy: 0.7466\n",
      "Epoch 00007: saving model to GR_CNN_2021-09-0810_09_42.223859/model-00007-0.67151-0.74661-1.50284-0.43000.h5\n",
      "67/67 [==============================] - 72s 1s/step - loss: 0.6715 - categorical_accuracy: 0.7466 - val_loss: 1.5028 - val_categorical_accuracy: 0.4300\n",
      "Epoch 8/25\n",
      "67/67 [==============================] - ETA: 0s - loss: 0.6122 - categorical_accuracy: 0.7511\n",
      "Epoch 00008: saving model to GR_CNN_2021-09-0810_09_42.223859/model-00008-0.61220-0.75113-1.13496-0.55000.h5\n",
      "67/67 [==============================] - 72s 1s/step - loss: 0.6122 - categorical_accuracy: 0.7511 - val_loss: 1.1350 - val_categorical_accuracy: 0.5500\n",
      "Epoch 9/25\n",
      "67/67 [==============================] - ETA: 0s - loss: 0.5579 - categorical_accuracy: 0.7949\n",
      "Epoch 00009: saving model to GR_CNN_2021-09-0810_09_42.223859/model-00009-0.55793-0.79487-1.00347-0.58000.h5\n",
      "67/67 [==============================] - 71s 1s/step - loss: 0.5579 - categorical_accuracy: 0.7949 - val_loss: 1.0035 - val_categorical_accuracy: 0.5800\n",
      "Epoch 10/25\n",
      "67/67 [==============================] - ETA: 0s - loss: 0.4532 - categorical_accuracy: 0.8567\n",
      "Epoch 00010: saving model to GR_CNN_2021-09-0810_09_42.223859/model-00010-0.45317-0.85671-1.03156-0.60000.h5\n",
      "67/67 [==============================] - 71s 1s/step - loss: 0.4532 - categorical_accuracy: 0.8567 - val_loss: 1.0316 - val_categorical_accuracy: 0.6000\n",
      "Epoch 11/25\n",
      "67/67 [==============================] - ETA: 0s - loss: 0.3656 - categorical_accuracy: 0.8703\n",
      "Epoch 00011: saving model to GR_CNN_2021-09-0810_09_42.223859/model-00011-0.36564-0.87029-0.84555-0.64000.h5\n",
      "67/67 [==============================] - 72s 1s/step - loss: 0.3656 - categorical_accuracy: 0.8703 - val_loss: 0.8456 - val_categorical_accuracy: 0.6400\n",
      "Epoch 12/25\n",
      "67/67 [==============================] - ETA: 0s - loss: 0.3321 - categorical_accuracy: 0.8839\n",
      "Epoch 00012: saving model to GR_CNN_2021-09-0810_09_42.223859/model-00012-0.33208-0.88386-0.85675-0.68000.h5\n",
      "67/67 [==============================] - 71s 1s/step - loss: 0.3321 - categorical_accuracy: 0.8839 - val_loss: 0.8567 - val_categorical_accuracy: 0.6800\n",
      "Epoch 13/25\n",
      "67/67 [==============================] - ETA: 0s - loss: 0.3065 - categorical_accuracy: 0.9005\n",
      "Epoch 00013: saving model to GR_CNN_2021-09-0810_09_42.223859/model-00013-0.30650-0.90045-1.01149-0.59000.h5\n",
      "67/67 [==============================] - 71s 1s/step - loss: 0.3065 - categorical_accuracy: 0.9005 - val_loss: 1.0115 - val_categorical_accuracy: 0.5900\n",
      "Epoch 14/25\n",
      "67/67 [==============================] - ETA: 0s - loss: 0.2710 - categorical_accuracy: 0.9050\n",
      "Epoch 00014: saving model to GR_CNN_2021-09-0810_09_42.223859/model-00014-0.27097-0.90498-0.70258-0.71000.h5\n",
      "67/67 [==============================] - 71s 1s/step - loss: 0.2710 - categorical_accuracy: 0.9050 - val_loss: 0.7026 - val_categorical_accuracy: 0.7100\n",
      "Epoch 15/25\n",
      "67/67 [==============================] - ETA: 0s - loss: 0.3339 - categorical_accuracy: 0.8793\n",
      "Epoch 00015: saving model to GR_CNN_2021-09-0810_09_42.223859/model-00015-0.33391-0.87934-0.88749-0.67000.h5\n",
      "67/67 [==============================] - 71s 1s/step - loss: 0.3339 - categorical_accuracy: 0.8793 - val_loss: 0.8875 - val_categorical_accuracy: 0.6700\n",
      "Epoch 16/25\n",
      "67/67 [==============================] - ETA: 0s - loss: 0.2258 - categorical_accuracy: 0.9155\n",
      "Epoch 00016: saving model to GR_CNN_2021-09-0810_09_42.223859/model-00016-0.22584-0.91554-0.75028-0.68000.h5\n",
      "67/67 [==============================] - 71s 1s/step - loss: 0.2258 - categorical_accuracy: 0.9155 - val_loss: 0.7503 - val_categorical_accuracy: 0.6800\n",
      "Epoch 17/25\n",
      "67/67 [==============================] - ETA: 0s - loss: 0.1685 - categorical_accuracy: 0.9472\n",
      "Epoch 00017: saving model to GR_CNN_2021-09-0810_09_42.223859/model-00017-0.16849-0.94721-0.95427-0.66000.h5\n",
      "67/67 [==============================] - 71s 1s/step - loss: 0.1685 - categorical_accuracy: 0.9472 - val_loss: 0.9543 - val_categorical_accuracy: 0.6600\n",
      "Epoch 18/25\n",
      "67/67 [==============================] - ETA: 0s - loss: 0.1742 - categorical_accuracy: 0.9487\n",
      "Epoch 00018: saving model to GR_CNN_2021-09-0810_09_42.223859/model-00018-0.17425-0.94872-0.77205-0.79000.h5\n",
      "67/67 [==============================] - 71s 1s/step - loss: 0.1742 - categorical_accuracy: 0.9487 - val_loss: 0.7720 - val_categorical_accuracy: 0.7900\n",
      "Epoch 19/25\n",
      "67/67 [==============================] - ETA: 0s - loss: 0.1747 - categorical_accuracy: 0.9457\n",
      "Epoch 00019: saving model to GR_CNN_2021-09-0810_09_42.223859/model-00019-0.17473-0.94570-1.25532-0.59000.h5\n",
      "67/67 [==============================] - 71s 1s/step - loss: 0.1747 - categorical_accuracy: 0.9457 - val_loss: 1.2553 - val_categorical_accuracy: 0.5900\n",
      "Epoch 20/25\n",
      "67/67 [==============================] - ETA: 0s - loss: 0.2186 - categorical_accuracy: 0.9246\n",
      "Epoch 00020: saving model to GR_CNN_2021-09-0810_09_42.223859/model-00020-0.21861-0.92459-0.75881-0.73000.h5\n",
      "67/67 [==============================] - 71s 1s/step - loss: 0.2186 - categorical_accuracy: 0.9246 - val_loss: 0.7588 - val_categorical_accuracy: 0.7300\n",
      "Epoch 21/25\n",
      "67/67 [==============================] - ETA: 0s - loss: 0.1209 - categorical_accuracy: 0.9623\n",
      "Epoch 00021: saving model to GR_CNN_2021-09-0810_09_42.223859/model-00021-0.12094-0.96229-0.61814-0.81000.h5\n",
      "67/67 [==============================] - 71s 1s/step - loss: 0.1209 - categorical_accuracy: 0.9623 - val_loss: 0.6181 - val_categorical_accuracy: 0.8100\n",
      "Epoch 22/25\n",
      "67/67 [==============================] - ETA: 0s - loss: 0.1018 - categorical_accuracy: 0.9789\n",
      "Epoch 00022: saving model to GR_CNN_2021-09-0810_09_42.223859/model-00022-0.10177-0.97888-0.58093-0.79000.h5\n",
      "67/67 [==============================] - 71s 1s/step - loss: 0.1018 - categorical_accuracy: 0.9789 - val_loss: 0.5809 - val_categorical_accuracy: 0.7900\n",
      "Epoch 23/25\n",
      "67/67 [==============================] - ETA: 0s - loss: 0.1468 - categorical_accuracy: 0.9532\n",
      "Epoch 00023: saving model to GR_CNN_2021-09-0810_09_42.223859/model-00023-0.14676-0.95324-0.68327-0.80000.h5\n",
      "67/67 [==============================] - 71s 1s/step - loss: 0.1468 - categorical_accuracy: 0.9532 - val_loss: 0.6833 - val_categorical_accuracy: 0.8000\n",
      "Epoch 24/25\n",
      "67/67 [==============================] - ETA: 0s - loss: 0.0947 - categorical_accuracy: 0.9759\n",
      "Epoch 00024: saving model to GR_CNN_2021-09-0810_09_42.223859/model-00024-0.09467-0.97587-0.39714-0.87000.h5\n",
      "67/67 [==============================] - 71s 1s/step - loss: 0.0947 - categorical_accuracy: 0.9759 - val_loss: 0.3971 - val_categorical_accuracy: 0.8700\n",
      "Epoch 25/25\n",
      "67/67 [==============================] - ETA: 0s - loss: 0.1101 - categorical_accuracy: 0.9683\n",
      "Epoch 00025: saving model to GR_CNN_2021-09-0810_09_42.223859/model-00025-0.11008-0.96833-0.60201-0.81000.h5\n",
      "67/67 [==============================] - 70s 1s/step - loss: 0.1101 - categorical_accuracy: 0.9683 - val_loss: 0.6020 - val_categorical_accuracy: 0.8100\n"
     ]
    }
   ],
   "source": [
    "callbacks_list = call_back('GR_CNN')\n",
    "steps_per_epoch, validation_steps = cal_steps()\n",
    "history = model.fit(train_generator, \n",
    "                               steps_per_epoch=steps_per_epoch, epochs=num_epochs, verbose=1, \n",
    "                    callbacks=callbacks_list, validation_data=val_generator, \n",
    "                    validation_steps=validation_steps,\n",
    "                    class_weight=None,\n",
    "                    workers=1,\n",
    "                    initial_epoch=0)"
   ]
  },
  {
   "cell_type": "markdown",
   "metadata": {},
   "source": [
    "### Plotting"
   ]
  },
  {
   "cell_type": "code",
   "execution_count": 12,
   "metadata": {},
   "outputs": [
    {
     "data": {
      "image/png": "[encoded data removed]",
      "text/plain": [
       "<Figure size 1080x288 with 2 Axes>"
      ]
     },
     "metadata": {
      "needs_background": "light"
     },
     "output_type": "display_data"
    }
   ],
   "source": [
    "plot(history)"
   ]
  },
  {
   "cell_type": "code",
   "execution_count": null,
   "metadata": {},
   "outputs": [],
   "source": []
  }
 ],
 "metadata": {
  "kernelspec": {
   "display_name": "Python 3",
   "language": "python",
   "name": "python3"
  },
  "language_info": {
   "codemirror_mode": {
    "name": "ipython",
    "version": 3
   },
   "file_extension": ".py",
   "mimetype": "text/x-python",
   "name": "python",
   "nbconvert_exporter": "python",
   "pygments_lexer": "ipython3",
   "version": "3.8.5"
  }
 },
 "nbformat": 4,
 "nbformat_minor": 4
}
